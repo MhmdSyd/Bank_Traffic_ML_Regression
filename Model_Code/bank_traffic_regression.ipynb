{
 "cells": [
  {
   "cell_type": "markdown",
   "metadata": {},
   "source": [
    "### Bank Traffic | EDA and  Regression Model"
   ]
  },
  {
   "cell_type": "markdown",
   "metadata": {},
   "source": [
    "**This notebook explains how we can go about explore and prepare data for model building.**\n",
    "\n",
    "*The notebook is structured in the following way:*\n",
    "\n",
    "- About Dataset.\n",
    "    - Covid Datasets\n",
    "    - Bank Traffic Datasets\n",
    "- Data Summary.\n",
    "- Feature Engineering.\n",
    "- EDA\n",
    "- Model:\n",
    "    - CatBoost Model.\n",
    "    - XGBoost Model.\n",
    "    - Grediant Boost Model."
   ]
  },
  {
   "cell_type": "markdown",
   "metadata": {},
   "source": [
    "###  Data Feature\n",
    "\n",
    "- **Timestamp** : datetime(year-month-day Hour:minute:second).\n",
    "- **Count** : number of customer for every window by day.\n",
    "- **Window** : number of window services"
   ]
  },
  {
   "cell_type": "markdown",
   "metadata": {},
   "source": [
    "**Import needed Liberaries**"
   ]
  },
  {
   "cell_type": "code",
   "execution_count": 1,
   "metadata": {},
   "outputs": [],
   "source": [
    "# important lib.\n",
    "import pandas as pd\n",
    "import numpy as np\n",
    "import matplotlib.pyplot as plt\n",
    "import seaborn as sns\n",
    "\n",
    "# preprocessing and metrics \n",
    "from sklearn.metrics import mean_squared_error, mean_squared_log_error, mean_absolute_error\n",
    "from sklearn.preprocessing import StandardScaler, MinMaxScaler, OneHotEncoder\n",
    "from sklearn.model_selection import train_test_split\n",
    "\n",
    "# regression models\n",
    "from sklearn.ensemble import GradientBoostingRegressor\n",
    "from catboost import CatBoostRegressor \n",
    "import xgboost as xgb\n",
    "\n",
    "import missingno as msno\n",
    "import warnings"
   ]
  },
  {
   "cell_type": "code",
   "execution_count": 2,
   "metadata": {},
   "outputs": [],
   "source": [
    "warnings.filterwarnings('ignore')"
   ]
  },
  {
   "cell_type": "markdown",
   "metadata": {},
   "source": [
    "### About Dataset"
   ]
  },
  {
   "cell_type": "markdown",
   "metadata": {},
   "source": [
    "## Covid Data"
   ]
  },
  {
   "cell_type": "code",
   "execution_count": 3,
   "metadata": {},
   "outputs": [
    {
     "data": {
      "text/html": [
       "<div>\n",
       "<style scoped>\n",
       "    .dataframe tbody tr th:only-of-type {\n",
       "        vertical-align: middle;\n",
       "    }\n",
       "\n",
       "    .dataframe tbody tr th {\n",
       "        vertical-align: top;\n",
       "    }\n",
       "\n",
       "    .dataframe thead th {\n",
       "        text-align: right;\n",
       "    }\n",
       "</style>\n",
       "<table border=\"1\" class=\"dataframe\">\n",
       "  <thead>\n",
       "    <tr style=\"text-align: right;\">\n",
       "      <th></th>\n",
       "      <th>Date</th>\n",
       "      <th>Country</th>\n",
       "      <th>Confirmed</th>\n",
       "      <th>Recovered</th>\n",
       "      <th>Deaths</th>\n",
       "    </tr>\n",
       "  </thead>\n",
       "  <tbody>\n",
       "    <tr>\n",
       "      <th>0</th>\n",
       "      <td>2020-01-22</td>\n",
       "      <td>Afghanistan</td>\n",
       "      <td>0</td>\n",
       "      <td>0</td>\n",
       "      <td>0</td>\n",
       "    </tr>\n",
       "    <tr>\n",
       "      <th>1</th>\n",
       "      <td>2020-01-23</td>\n",
       "      <td>Afghanistan</td>\n",
       "      <td>0</td>\n",
       "      <td>0</td>\n",
       "      <td>0</td>\n",
       "    </tr>\n",
       "    <tr>\n",
       "      <th>2</th>\n",
       "      <td>2020-01-24</td>\n",
       "      <td>Afghanistan</td>\n",
       "      <td>0</td>\n",
       "      <td>0</td>\n",
       "      <td>0</td>\n",
       "    </tr>\n",
       "    <tr>\n",
       "      <th>3</th>\n",
       "      <td>2020-01-25</td>\n",
       "      <td>Afghanistan</td>\n",
       "      <td>0</td>\n",
       "      <td>0</td>\n",
       "      <td>0</td>\n",
       "    </tr>\n",
       "    <tr>\n",
       "      <th>4</th>\n",
       "      <td>2020-01-26</td>\n",
       "      <td>Afghanistan</td>\n",
       "      <td>0</td>\n",
       "      <td>0</td>\n",
       "      <td>0</td>\n",
       "    </tr>\n",
       "  </tbody>\n",
       "</table>\n",
       "</div>"
      ],
      "text/plain": [
       "         Date      Country  Confirmed  Recovered  Deaths\n",
       "0  2020-01-22  Afghanistan          0          0       0\n",
       "1  2020-01-23  Afghanistan          0          0       0\n",
       "2  2020-01-24  Afghanistan          0          0       0\n",
       "3  2020-01-25  Afghanistan          0          0       0\n",
       "4  2020-01-26  Afghanistan          0          0       0"
      ]
     },
     "execution_count": 3,
     "metadata": {},
     "output_type": "execute_result"
    }
   ],
   "source": [
    "# we use to covid dataset from kaggle that dataset have true values for all country on the world.\n",
    "\n",
    "# read covid datasets.\n",
    "covid_df = pd.read_csv('data/countries-aggregated.csv')\n",
    "covid_df.head()"
   ]
  },
  {
   "cell_type": "code",
   "execution_count": 4,
   "metadata": {},
   "outputs": [
    {
     "data": {
      "text/html": [
       "<div>\n",
       "<style scoped>\n",
       "    .dataframe tbody tr th:only-of-type {\n",
       "        vertical-align: middle;\n",
       "    }\n",
       "\n",
       "    .dataframe tbody tr th {\n",
       "        vertical-align: top;\n",
       "    }\n",
       "\n",
       "    .dataframe thead th {\n",
       "        text-align: right;\n",
       "    }\n",
       "</style>\n",
       "<table border=\"1\" class=\"dataframe\">\n",
       "  <thead>\n",
       "    <tr style=\"text-align: right;\">\n",
       "      <th></th>\n",
       "      <th>Date</th>\n",
       "      <th>Country</th>\n",
       "      <th>Confirmed</th>\n",
       "      <th>Recovered</th>\n",
       "      <th>Deaths</th>\n",
       "    </tr>\n",
       "  </thead>\n",
       "  <tbody>\n",
       "    <tr>\n",
       "      <th>33867</th>\n",
       "      <td>2020-01-22</td>\n",
       "      <td>Egypt</td>\n",
       "      <td>0</td>\n",
       "      <td>0</td>\n",
       "      <td>0</td>\n",
       "    </tr>\n",
       "    <tr>\n",
       "      <th>33868</th>\n",
       "      <td>2020-01-23</td>\n",
       "      <td>Egypt</td>\n",
       "      <td>0</td>\n",
       "      <td>0</td>\n",
       "      <td>0</td>\n",
       "    </tr>\n",
       "    <tr>\n",
       "      <th>33869</th>\n",
       "      <td>2020-01-24</td>\n",
       "      <td>Egypt</td>\n",
       "      <td>0</td>\n",
       "      <td>0</td>\n",
       "      <td>0</td>\n",
       "    </tr>\n",
       "    <tr>\n",
       "      <th>33870</th>\n",
       "      <td>2020-01-25</td>\n",
       "      <td>Egypt</td>\n",
       "      <td>0</td>\n",
       "      <td>0</td>\n",
       "      <td>0</td>\n",
       "    </tr>\n",
       "    <tr>\n",
       "      <th>33871</th>\n",
       "      <td>2020-01-26</td>\n",
       "      <td>Egypt</td>\n",
       "      <td>0</td>\n",
       "      <td>0</td>\n",
       "      <td>0</td>\n",
       "    </tr>\n",
       "  </tbody>\n",
       "</table>\n",
       "</div>"
      ],
      "text/plain": [
       "             Date Country  Confirmed  Recovered  Deaths\n",
       "33867  2020-01-22   Egypt          0          0       0\n",
       "33868  2020-01-23   Egypt          0          0       0\n",
       "33869  2020-01-24   Egypt          0          0       0\n",
       "33870  2020-01-25   Egypt          0          0       0\n",
       "33871  2020-01-26   Egypt          0          0       0"
      ]
     },
     "execution_count": 4,
     "metadata": {},
     "output_type": "execute_result"
    }
   ],
   "source": [
    "# select Egypt dataset from covid data.\n",
    "covid_df = covid_df[covid_df['Country']=='Egypt']\n",
    "covid_df.head()"
   ]
  },
  {
   "cell_type": "code",
   "execution_count": 5,
   "metadata": {},
   "outputs": [],
   "source": [
    "# drop country column from data because it has one value 'Egypt' and we don't need it.\n",
    "covid_df.drop(['Country'], axis=1, inplace=True)"
   ]
  },
  {
   "cell_type": "code",
   "execution_count": 6,
   "metadata": {},
   "outputs": [
    {
     "data": {
      "text/plain": [
       "Date         datetime64[ns]\n",
       "Confirmed             int64\n",
       "Recovered             int64\n",
       "Deaths                int64\n",
       "dtype: object"
      ]
     },
     "execution_count": 6,
     "metadata": {},
     "output_type": "execute_result"
    }
   ],
   "source": [
    "# set datetime type for Date to can handle easy.\n",
    "covid_df.Date = pd.to_datetime(covid_df['Date'])\n",
    "covid_df.dtypes"
   ]
  },
  {
   "cell_type": "code",
   "execution_count": 7,
   "metadata": {},
   "outputs": [],
   "source": [
    "# extract year, month, day values from date column.\n",
    "covid_df['year'] = covid_df.Date.dt.year\n",
    "covid_df['month'] = covid_df.Date.dt.month\n",
    "covid_df['day'] = covid_df.Date.dt.day"
   ]
  },
  {
   "cell_type": "code",
   "execution_count": 8,
   "metadata": {},
   "outputs": [
    {
     "data": {
      "text/html": [
       "<div>\n",
       "<style scoped>\n",
       "    .dataframe tbody tr th:only-of-type {\n",
       "        vertical-align: middle;\n",
       "    }\n",
       "\n",
       "    .dataframe tbody tr th {\n",
       "        vertical-align: top;\n",
       "    }\n",
       "\n",
       "    .dataframe thead th {\n",
       "        text-align: right;\n",
       "    }\n",
       "</style>\n",
       "<table border=\"1\" class=\"dataframe\">\n",
       "  <thead>\n",
       "    <tr style=\"text-align: right;\">\n",
       "      <th></th>\n",
       "      <th>Confirmed</th>\n",
       "      <th>Recovered</th>\n",
       "      <th>Deaths</th>\n",
       "      <th>year</th>\n",
       "      <th>month</th>\n",
       "      <th>day</th>\n",
       "    </tr>\n",
       "  </thead>\n",
       "  <tbody>\n",
       "    <tr>\n",
       "      <th>34501</th>\n",
       "      <td>318456</td>\n",
       "      <td>0</td>\n",
       "      <td>17970</td>\n",
       "      <td>2021</td>\n",
       "      <td>10</td>\n",
       "      <td>17</td>\n",
       "    </tr>\n",
       "    <tr>\n",
       "      <th>34502</th>\n",
       "      <td>319339</td>\n",
       "      <td>0</td>\n",
       "      <td>18015</td>\n",
       "      <td>2021</td>\n",
       "      <td>10</td>\n",
       "      <td>18</td>\n",
       "    </tr>\n",
       "    <tr>\n",
       "      <th>34503</th>\n",
       "      <td>320207</td>\n",
       "      <td>0</td>\n",
       "      <td>18058</td>\n",
       "      <td>2021</td>\n",
       "      <td>10</td>\n",
       "      <td>19</td>\n",
       "    </tr>\n",
       "    <tr>\n",
       "      <th>34504</th>\n",
       "      <td>321084</td>\n",
       "      <td>0</td>\n",
       "      <td>18105</td>\n",
       "      <td>2021</td>\n",
       "      <td>10</td>\n",
       "      <td>20</td>\n",
       "    </tr>\n",
       "    <tr>\n",
       "      <th>34505</th>\n",
       "      <td>321967</td>\n",
       "      <td>0</td>\n",
       "      <td>18151</td>\n",
       "      <td>2021</td>\n",
       "      <td>10</td>\n",
       "      <td>21</td>\n",
       "    </tr>\n",
       "  </tbody>\n",
       "</table>\n",
       "</div>"
      ],
      "text/plain": [
       "       Confirmed  Recovered  Deaths  year  month  day\n",
       "34501     318456          0   17970  2021     10   17\n",
       "34502     319339          0   18015  2021     10   18\n",
       "34503     320207          0   18058  2021     10   19\n",
       "34504     321084          0   18105  2021     10   20\n",
       "34505     321967          0   18151  2021     10   21"
      ]
     },
     "execution_count": 8,
     "metadata": {},
     "output_type": "execute_result"
    }
   ],
   "source": [
    "# now we don't neet Date column, so we will drop it.\n",
    "covid_df.drop(['Date'], axis=1, inplace=True)\n",
    "covid_df.tail()"
   ]
  },
  {
   "cell_type": "code",
   "execution_count": 9,
   "metadata": {},
   "outputs": [],
   "source": [
    "# confirmed, recovered, deaths columns have cumulative values, so subtract every row from previous.\n",
    "covid_df['Confirmed'] = covid_df['Confirmed'].diff()\n",
    "covid_df['Recovered'] = covid_df['Recovered'].diff()\n",
    "covid_df['Deaths'] = covid_df['Deaths'].diff()"
   ]
  },
  {
   "cell_type": "code",
   "execution_count": 10,
   "metadata": {},
   "outputs": [
    {
     "data": {
      "text/html": [
       "<div>\n",
       "<style scoped>\n",
       "    .dataframe tbody tr th:only-of-type {\n",
       "        vertical-align: middle;\n",
       "    }\n",
       "\n",
       "    .dataframe tbody tr th {\n",
       "        vertical-align: top;\n",
       "    }\n",
       "\n",
       "    .dataframe thead th {\n",
       "        text-align: right;\n",
       "    }\n",
       "</style>\n",
       "<table border=\"1\" class=\"dataframe\">\n",
       "  <thead>\n",
       "    <tr style=\"text-align: right;\">\n",
       "      <th></th>\n",
       "      <th>Confirmed</th>\n",
       "      <th>Recovered</th>\n",
       "      <th>Deaths</th>\n",
       "      <th>year</th>\n",
       "      <th>month</th>\n",
       "      <th>day</th>\n",
       "    </tr>\n",
       "  </thead>\n",
       "  <tbody>\n",
       "    <tr>\n",
       "      <th>34501</th>\n",
       "      <td>871.0</td>\n",
       "      <td>0.0</td>\n",
       "      <td>44.0</td>\n",
       "      <td>2021</td>\n",
       "      <td>10</td>\n",
       "      <td>17</td>\n",
       "    </tr>\n",
       "    <tr>\n",
       "      <th>34502</th>\n",
       "      <td>883.0</td>\n",
       "      <td>0.0</td>\n",
       "      <td>45.0</td>\n",
       "      <td>2021</td>\n",
       "      <td>10</td>\n",
       "      <td>18</td>\n",
       "    </tr>\n",
       "    <tr>\n",
       "      <th>34503</th>\n",
       "      <td>868.0</td>\n",
       "      <td>0.0</td>\n",
       "      <td>43.0</td>\n",
       "      <td>2021</td>\n",
       "      <td>10</td>\n",
       "      <td>19</td>\n",
       "    </tr>\n",
       "    <tr>\n",
       "      <th>34504</th>\n",
       "      <td>877.0</td>\n",
       "      <td>0.0</td>\n",
       "      <td>47.0</td>\n",
       "      <td>2021</td>\n",
       "      <td>10</td>\n",
       "      <td>20</td>\n",
       "    </tr>\n",
       "    <tr>\n",
       "      <th>34505</th>\n",
       "      <td>883.0</td>\n",
       "      <td>0.0</td>\n",
       "      <td>46.0</td>\n",
       "      <td>2021</td>\n",
       "      <td>10</td>\n",
       "      <td>21</td>\n",
       "    </tr>\n",
       "  </tbody>\n",
       "</table>\n",
       "</div>"
      ],
      "text/plain": [
       "       Confirmed  Recovered  Deaths  year  month  day\n",
       "34501      871.0        0.0    44.0  2021     10   17\n",
       "34502      883.0        0.0    45.0  2021     10   18\n",
       "34503      868.0        0.0    43.0  2021     10   19\n",
       "34504      877.0        0.0    47.0  2021     10   20\n",
       "34505      883.0        0.0    46.0  2021     10   21"
      ]
     },
     "execution_count": 10,
     "metadata": {},
     "output_type": "execute_result"
    }
   ],
   "source": [
    "# now covid dataset is ready.\n",
    "covid_df.tail()"
   ]
  },
  {
   "cell_type": "markdown",
   "metadata": {},
   "source": [
    "## Bank Traffic Data"
   ]
  },
  {
   "cell_type": "code",
   "execution_count": 11,
   "metadata": {},
   "outputs": [
    {
     "data": {
      "text/html": [
       "<div>\n",
       "<style scoped>\n",
       "    .dataframe tbody tr th:only-of-type {\n",
       "        vertical-align: middle;\n",
       "    }\n",
       "\n",
       "    .dataframe tbody tr th {\n",
       "        vertical-align: top;\n",
       "    }\n",
       "\n",
       "    .dataframe thead th {\n",
       "        text-align: right;\n",
       "    }\n",
       "</style>\n",
       "<table border=\"1\" class=\"dataframe\">\n",
       "  <thead>\n",
       "    <tr style=\"text-align: right;\">\n",
       "      <th></th>\n",
       "      <th>timestamp</th>\n",
       "      <th>count</th>\n",
       "      <th>window</th>\n",
       "    </tr>\n",
       "  </thead>\n",
       "  <tbody>\n",
       "    <tr>\n",
       "      <th>10008</th>\n",
       "      <td>2021-07-27 02:00:00+02:00</td>\n",
       "      <td>173</td>\n",
       "      <td>15</td>\n",
       "    </tr>\n",
       "    <tr>\n",
       "      <th>10009</th>\n",
       "      <td>2021-07-28 02:00:00+02:00</td>\n",
       "      <td>117</td>\n",
       "      <td>15</td>\n",
       "    </tr>\n",
       "    <tr>\n",
       "      <th>10010</th>\n",
       "      <td>2021-07-29 02:00:00+02:00</td>\n",
       "      <td>137</td>\n",
       "      <td>15</td>\n",
       "    </tr>\n",
       "    <tr>\n",
       "      <th>10011</th>\n",
       "      <td>2021-07-30 02:00:00+02:00</td>\n",
       "      <td>0</td>\n",
       "      <td>15</td>\n",
       "    </tr>\n",
       "    <tr>\n",
       "      <th>10012</th>\n",
       "      <td>2021-07-31 02:00:00+02:00</td>\n",
       "      <td>0</td>\n",
       "      <td>15</td>\n",
       "    </tr>\n",
       "  </tbody>\n",
       "</table>\n",
       "</div>"
      ],
      "text/plain": [
       "                       timestamp  count  window\n",
       "10008  2021-07-27 02:00:00+02:00    173      15\n",
       "10009  2021-07-28 02:00:00+02:00    117      15\n",
       "10010  2021-07-29 02:00:00+02:00    137      15\n",
       "10011  2021-07-30 02:00:00+02:00      0      15\n",
       "10012  2021-07-31 02:00:00+02:00      0      15"
      ]
     },
     "execution_count": 11,
     "metadata": {},
     "output_type": "execute_result"
    }
   ],
   "source": [
    "# read bank traffic dataset.\n",
    "df = pd.read_csv('data/bank_traffic_data.csv')\n",
    "df.tail()"
   ]
  },
  {
   "cell_type": "code",
   "execution_count": 12,
   "metadata": {},
   "outputs": [
    {
     "data": {
      "text/plain": [
       "timestamp    object\n",
       "count         int64\n",
       "window        int64\n",
       "dtype: object"
      ]
     },
     "execution_count": 12,
     "metadata": {},
     "output_type": "execute_result"
    }
   ],
   "source": [
    "# print columns types of data\n",
    "df.dtypes"
   ]
  },
  {
   "cell_type": "code",
   "execution_count": 13,
   "metadata": {},
   "outputs": [
    {
     "data": {
      "text/html": [
       "<div>\n",
       "<style scoped>\n",
       "    .dataframe tbody tr th:only-of-type {\n",
       "        vertical-align: middle;\n",
       "    }\n",
       "\n",
       "    .dataframe tbody tr th {\n",
       "        vertical-align: top;\n",
       "    }\n",
       "\n",
       "    .dataframe thead th {\n",
       "        text-align: right;\n",
       "    }\n",
       "</style>\n",
       "<table border=\"1\" class=\"dataframe\">\n",
       "  <thead>\n",
       "    <tr style=\"text-align: right;\">\n",
       "      <th></th>\n",
       "      <th>count</th>\n",
       "      <th>window</th>\n",
       "    </tr>\n",
       "  </thead>\n",
       "  <tbody>\n",
       "    <tr>\n",
       "      <th>count</th>\n",
       "      <td>10013.000000</td>\n",
       "      <td>10013.000000</td>\n",
       "    </tr>\n",
       "    <tr>\n",
       "      <th>mean</th>\n",
       "      <td>261.946669</td>\n",
       "      <td>8.020673</td>\n",
       "    </tr>\n",
       "    <tr>\n",
       "      <th>std</th>\n",
       "      <td>453.700521</td>\n",
       "      <td>4.334112</td>\n",
       "    </tr>\n",
       "    <tr>\n",
       "      <th>min</th>\n",
       "      <td>0.000000</td>\n",
       "      <td>1.000000</td>\n",
       "    </tr>\n",
       "    <tr>\n",
       "      <th>25%</th>\n",
       "      <td>0.000000</td>\n",
       "      <td>4.000000</td>\n",
       "    </tr>\n",
       "    <tr>\n",
       "      <th>50%</th>\n",
       "      <td>134.000000</td>\n",
       "      <td>8.000000</td>\n",
       "    </tr>\n",
       "    <tr>\n",
       "      <th>75%</th>\n",
       "      <td>211.000000</td>\n",
       "      <td>12.000000</td>\n",
       "    </tr>\n",
       "    <tr>\n",
       "      <th>max</th>\n",
       "      <td>4670.000000</td>\n",
       "      <td>15.000000</td>\n",
       "    </tr>\n",
       "  </tbody>\n",
       "</table>\n",
       "</div>"
      ],
      "text/plain": [
       "              count        window\n",
       "count  10013.000000  10013.000000\n",
       "mean     261.946669      8.020673\n",
       "std      453.700521      4.334112\n",
       "min        0.000000      1.000000\n",
       "25%        0.000000      4.000000\n",
       "50%      134.000000      8.000000\n",
       "75%      211.000000     12.000000\n",
       "max     4670.000000     15.000000"
      ]
     },
     "execution_count": 13,
     "metadata": {},
     "output_type": "execute_result"
    }
   ],
   "source": [
    "# data summary\n",
    "df.describe()"
   ]
  },
  {
   "cell_type": "code",
   "execution_count": 14,
   "metadata": {},
   "outputs": [
    {
     "name": "stdout",
     "output_type": "stream",
     "text": [
      "<class 'pandas.core.frame.DataFrame'>\n",
      "RangeIndex: 10013 entries, 0 to 10012\n",
      "Data columns (total 3 columns):\n",
      " #   Column     Non-Null Count  Dtype \n",
      "---  ------     --------------  ----- \n",
      " 0   timestamp  10013 non-null  object\n",
      " 1   count      10013 non-null  int64 \n",
      " 2   window     10013 non-null  int64 \n",
      "dtypes: int64(2), object(1)\n",
      "memory usage: 234.8+ KB\n"
     ]
    }
   ],
   "source": [
    "# more info about data, there is no null value in dataset.\n",
    "df.info()"
   ]
  },
  {
   "cell_type": "code",
   "execution_count": 15,
   "metadata": {},
   "outputs": [
    {
     "data": {
      "text/plain": [
       "(10013, 3)"
      ]
     },
     "execution_count": 15,
     "metadata": {},
     "output_type": "execute_result"
    }
   ],
   "source": [
    "# print dimensionality of datsets\n",
    "df.shape"
   ]
  },
  {
   "cell_type": "code",
   "execution_count": 16,
   "metadata": {},
   "outputs": [
    {
     "data": {
      "image/png": "[encoded data removed]",
      "text/plain": [
       "<Figure size 864x360 with 2 Axes>"
      ]
     },
     "metadata": {
      "needs_background": "light"
     },
     "output_type": "display_data"
    }
   ],
   "source": [
    "# check if there is any null values.\n",
    "msno.matrix(df,figsize=(12,5),color=(0.3, 0.0, 0.4),fontsize=8)\n",
    "plt.show()"
   ]
  },
  {
   "cell_type": "code",
   "execution_count": 17,
   "metadata": {},
   "outputs": [
    {
     "data": {
      "text/plain": [
       "timestamp    datetime64[ns, pytz.FixedOffset(120)]\n",
       "count                                        int64\n",
       "window                                       int64\n",
       "dtype: object"
      ]
     },
     "execution_count": 17,
     "metadata": {},
     "output_type": "execute_result"
    }
   ],
   "source": [
    "# change timestamp column to datetime, we can use easy.\n",
    "df.timestamp = pd.to_datetime(df.timestamp, format=\"%Y-%m-%d %H:%M:%S\")\n",
    "df.dtypes"
   ]
  },
  {
   "cell_type": "markdown",
   "metadata": {},
   "source": [
    "## Feature Engineering"
   ]
  },
  {
   "cell_type": "code",
   "execution_count": 18,
   "metadata": {},
   "outputs": [],
   "source": [
    "# extract all datetime part (year, month, day, ....etc).\n",
    "df['year'] = df.timestamp.dt.year\n",
    "df['month'] = df.timestamp.dt.month\n",
    "df['day'] = df.timestamp.dt.day\n",
    "df['hour'] = df.timestamp.dt.hour\n",
    "df['minute']  =df.timestamp.dt.minute\n",
    "df['second'] = df.timestamp.dt.second\n",
    "df['day_name'] = df.timestamp.dt.day_name()"
   ]
  },
  {
   "cell_type": "markdown",
   "metadata": {},
   "source": [
    "**There is some days have official vacation and count is equal to zero**"
   ]
  },
  {
   "cell_type": "code",
   "execution_count": 19,
   "metadata": {},
   "outputs": [],
   "source": [
    "df['official_vacation'] = 0\n",
    "df.loc[(df['count']==0)& ((df['day_name']!='Friday')&(df['day_name']!='Saturday')), 'official_vacation'] = 1"
   ]
  },
  {
   "cell_type": "code",
   "execution_count": 20,
   "metadata": {},
   "outputs": [
    {
     "data": {
      "text/html": [
       "<div>\n",
       "<style scoped>\n",
       "    .dataframe tbody tr th:only-of-type {\n",
       "        vertical-align: middle;\n",
       "    }\n",
       "\n",
       "    .dataframe tbody tr th {\n",
       "        vertical-align: top;\n",
       "    }\n",
       "\n",
       "    .dataframe thead th {\n",
       "        text-align: right;\n",
       "    }\n",
       "</style>\n",
       "<table border=\"1\" class=\"dataframe\">\n",
       "  <thead>\n",
       "    <tr style=\"text-align: right;\">\n",
       "      <th></th>\n",
       "      <th>timestamp</th>\n",
       "      <th>count</th>\n",
       "      <th>window</th>\n",
       "      <th>year</th>\n",
       "      <th>month</th>\n",
       "      <th>day</th>\n",
       "      <th>hour</th>\n",
       "      <th>minute</th>\n",
       "      <th>second</th>\n",
       "      <th>day_name</th>\n",
       "      <th>official_vacation</th>\n",
       "    </tr>\n",
       "  </thead>\n",
       "  <tbody>\n",
       "    <tr>\n",
       "      <th>0</th>\n",
       "      <td>2019-09-26 02:00:00+02:00</td>\n",
       "      <td>764</td>\n",
       "      <td>1</td>\n",
       "      <td>2019</td>\n",
       "      <td>9</td>\n",
       "      <td>26</td>\n",
       "      <td>2</td>\n",
       "      <td>0</td>\n",
       "      <td>0</td>\n",
       "      <td>Thursday</td>\n",
       "      <td>0</td>\n",
       "    </tr>\n",
       "    <tr>\n",
       "      <th>1</th>\n",
       "      <td>2019-09-27 02:00:00+02:00</td>\n",
       "      <td>0</td>\n",
       "      <td>1</td>\n",
       "      <td>2019</td>\n",
       "      <td>9</td>\n",
       "      <td>27</td>\n",
       "      <td>2</td>\n",
       "      <td>0</td>\n",
       "      <td>0</td>\n",
       "      <td>Friday</td>\n",
       "      <td>0</td>\n",
       "    </tr>\n",
       "    <tr>\n",
       "      <th>2</th>\n",
       "      <td>2019-09-28 02:00:00+02:00</td>\n",
       "      <td>0</td>\n",
       "      <td>1</td>\n",
       "      <td>2019</td>\n",
       "      <td>9</td>\n",
       "      <td>28</td>\n",
       "      <td>2</td>\n",
       "      <td>0</td>\n",
       "      <td>0</td>\n",
       "      <td>Saturday</td>\n",
       "      <td>0</td>\n",
       "    </tr>\n",
       "    <tr>\n",
       "      <th>3</th>\n",
       "      <td>2019-09-29 02:00:00+02:00</td>\n",
       "      <td>1973</td>\n",
       "      <td>1</td>\n",
       "      <td>2019</td>\n",
       "      <td>9</td>\n",
       "      <td>29</td>\n",
       "      <td>2</td>\n",
       "      <td>0</td>\n",
       "      <td>0</td>\n",
       "      <td>Sunday</td>\n",
       "      <td>0</td>\n",
       "    </tr>\n",
       "    <tr>\n",
       "      <th>4</th>\n",
       "      <td>2019-09-30 02:00:00+02:00</td>\n",
       "      <td>1908</td>\n",
       "      <td>1</td>\n",
       "      <td>2019</td>\n",
       "      <td>9</td>\n",
       "      <td>30</td>\n",
       "      <td>2</td>\n",
       "      <td>0</td>\n",
       "      <td>0</td>\n",
       "      <td>Monday</td>\n",
       "      <td>0</td>\n",
       "    </tr>\n",
       "  </tbody>\n",
       "</table>\n",
       "</div>"
      ],
      "text/plain": [
       "                  timestamp  count  window  year  month  day  hour  minute  \\\n",
       "0 2019-09-26 02:00:00+02:00    764       1  2019      9   26     2       0   \n",
       "1 2019-09-27 02:00:00+02:00      0       1  2019      9   27     2       0   \n",
       "2 2019-09-28 02:00:00+02:00      0       1  2019      9   28     2       0   \n",
       "3 2019-09-29 02:00:00+02:00   1973       1  2019      9   29     2       0   \n",
       "4 2019-09-30 02:00:00+02:00   1908       1  2019      9   30     2       0   \n",
       "\n",
       "   second  day_name  official_vacation  \n",
       "0       0  Thursday                  0  \n",
       "1       0    Friday                  0  \n",
       "2       0  Saturday                  0  \n",
       "3       0    Sunday                  0  \n",
       "4       0    Monday                  0  "
      ]
     },
     "execution_count": 20,
     "metadata": {},
     "output_type": "execute_result"
    }
   ],
   "source": [
    "df.head()"
   ]
  },
  {
   "cell_type": "markdown",
   "metadata": {},
   "source": [
    "## EDA"
   ]
  },
  {
   "cell_type": "code",
   "execution_count": 21,
   "metadata": {},
   "outputs": [
    {
     "data": {
      "text/plain": [
       "0    9292\n",
       "1     721\n",
       "Name: official_vacation, dtype: int64"
      ]
     },
     "execution_count": 21,
     "metadata": {},
     "output_type": "execute_result"
    }
   ],
   "source": [
    "df['official_vacation'].value_counts()"
   ]
  },
  {
   "cell_type": "code",
   "execution_count": 22,
   "metadata": {},
   "outputs": [
    {
     "data": {
      "text/html": [
       "<div>\n",
       "<style scoped>\n",
       "    .dataframe tbody tr th:only-of-type {\n",
       "        vertical-align: middle;\n",
       "    }\n",
       "\n",
       "    .dataframe tbody tr th {\n",
       "        vertical-align: top;\n",
       "    }\n",
       "\n",
       "    .dataframe thead th {\n",
       "        text-align: right;\n",
       "    }\n",
       "</style>\n",
       "<table border=\"1\" class=\"dataframe\">\n",
       "  <thead>\n",
       "    <tr style=\"text-align: right;\">\n",
       "      <th></th>\n",
       "      <th>timestamp</th>\n",
       "      <th>count</th>\n",
       "      <th>window</th>\n",
       "      <th>year</th>\n",
       "      <th>month</th>\n",
       "      <th>day</th>\n",
       "      <th>hour</th>\n",
       "      <th>minute</th>\n",
       "      <th>second</th>\n",
       "      <th>day_name</th>\n",
       "      <th>official_vacation</th>\n",
       "    </tr>\n",
       "  </thead>\n",
       "  <tbody>\n",
       "  </tbody>\n",
       "</table>\n",
       "</div>"
      ],
      "text/plain": [
       "Empty DataFrame\n",
       "Columns: [timestamp, count, window, year, month, day, hour, minute, second, day_name, official_vacation]\n",
       "Index: []"
      ]
     },
     "execution_count": 22,
     "metadata": {},
     "output_type": "execute_result"
    }
   ],
   "source": [
    "df[(df['official_vacation']==1)&(df['month'])==8]"
   ]
  },
  {
   "cell_type": "markdown",
   "metadata": {},
   "source": [
    "**There is no official vaction holiday on August, this for test dataset**"
   ]
  },
  {
   "cell_type": "code",
   "execution_count": 23,
   "metadata": {},
   "outputs": [
    {
     "data": {
      "text/plain": [
       "1     675\n",
       "2     675\n",
       "3     675\n",
       "4     640\n",
       "5     639\n",
       "6     675\n",
       "7     675\n",
       "8     675\n",
       "9     634\n",
       "10    675\n",
       "11    675\n",
       "12    675\n",
       "13    675\n",
       "14    675\n",
       "15    675\n",
       "Name: window, dtype: int64"
      ]
     },
     "execution_count": 23,
     "metadata": {},
     "output_type": "execute_result"
    }
   ],
   "source": [
    "# all window have same rows count on dataset.\n",
    "df.window.value_counts().sort_index()"
   ]
  },
  {
   "cell_type": "code",
   "execution_count": 24,
   "metadata": {},
   "outputs": [
    {
     "data": {
      "text/plain": [
       "2    10013\n",
       "Name: hour, dtype: int64"
      ]
     },
     "execution_count": 24,
     "metadata": {},
     "output_type": "execute_result"
    }
   ],
   "source": [
    "# hour have the same value in all dataset, so we will drop it\n",
    "df.hour.value_counts()"
   ]
  },
  {
   "cell_type": "code",
   "execution_count": 25,
   "metadata": {},
   "outputs": [
    {
     "data": {
      "text/plain": [
       "0    10013\n",
       "Name: minute, dtype: int64"
      ]
     },
     "execution_count": 25,
     "metadata": {},
     "output_type": "execute_result"
    }
   ],
   "source": [
    "# minute have the same value in all dataset, so we will drop it\n",
    "df.minute.value_counts()"
   ]
  },
  {
   "cell_type": "code",
   "execution_count": 26,
   "metadata": {},
   "outputs": [
    {
     "data": {
      "text/plain": [
       "0    10013\n",
       "Name: second, dtype: int64"
      ]
     },
     "execution_count": 26,
     "metadata": {},
     "output_type": "execute_result"
    }
   ],
   "source": [
    "# second have the same value in all dataset, so we will drop it\n",
    "df.second.value_counts()"
   ]
  },
  {
   "cell_type": "code",
   "execution_count": 27,
   "metadata": {},
   "outputs": [
    {
     "data": {
      "text/plain": [
       "2019    1455\n",
       "2020    5490\n",
       "2021    3068\n",
       "Name: year, dtype: int64"
      ]
     },
     "execution_count": 27,
     "metadata": {},
     "output_type": "execute_result"
    }
   ],
   "source": [
    "# we will use onehot encode for year column.\n",
    "df.year.value_counts().sort_index()"
   ]
  },
  {
   "cell_type": "markdown",
   "metadata": {},
   "source": [
    "**drop hour, minute, second columns**"
   ]
  },
  {
   "cell_type": "code",
   "execution_count": 28,
   "metadata": {},
   "outputs": [],
   "source": [
    "# drop columns that have one value on all dataset.\n",
    "df.drop(['hour', 'minute', 'second'], axis=1, inplace=True)"
   ]
  },
  {
   "cell_type": "code",
   "execution_count": 29,
   "metadata": {},
   "outputs": [
    {
     "data": {
      "text/html": [
       "<div>\n",
       "<style scoped>\n",
       "    .dataframe tbody tr th:only-of-type {\n",
       "        vertical-align: middle;\n",
       "    }\n",
       "\n",
       "    .dataframe tbody tr th {\n",
       "        vertical-align: top;\n",
       "    }\n",
       "\n",
       "    .dataframe thead th {\n",
       "        text-align: right;\n",
       "    }\n",
       "</style>\n",
       "<table border=\"1\" class=\"dataframe\">\n",
       "  <thead>\n",
       "    <tr style=\"text-align: right;\">\n",
       "      <th></th>\n",
       "      <th>timestamp</th>\n",
       "      <th>count</th>\n",
       "      <th>window</th>\n",
       "      <th>year</th>\n",
       "      <th>month</th>\n",
       "      <th>day</th>\n",
       "      <th>day_name</th>\n",
       "      <th>official_vacation</th>\n",
       "    </tr>\n",
       "  </thead>\n",
       "  <tbody>\n",
       "    <tr>\n",
       "      <th>0</th>\n",
       "      <td>2019-09-26 02:00:00+02:00</td>\n",
       "      <td>764</td>\n",
       "      <td>1</td>\n",
       "      <td>2019</td>\n",
       "      <td>9</td>\n",
       "      <td>26</td>\n",
       "      <td>Thursday</td>\n",
       "      <td>0</td>\n",
       "    </tr>\n",
       "    <tr>\n",
       "      <th>1</th>\n",
       "      <td>2019-09-27 02:00:00+02:00</td>\n",
       "      <td>0</td>\n",
       "      <td>1</td>\n",
       "      <td>2019</td>\n",
       "      <td>9</td>\n",
       "      <td>27</td>\n",
       "      <td>Friday</td>\n",
       "      <td>0</td>\n",
       "    </tr>\n",
       "    <tr>\n",
       "      <th>2</th>\n",
       "      <td>2019-09-28 02:00:00+02:00</td>\n",
       "      <td>0</td>\n",
       "      <td>1</td>\n",
       "      <td>2019</td>\n",
       "      <td>9</td>\n",
       "      <td>28</td>\n",
       "      <td>Saturday</td>\n",
       "      <td>0</td>\n",
       "    </tr>\n",
       "    <tr>\n",
       "      <th>3</th>\n",
       "      <td>2019-09-29 02:00:00+02:00</td>\n",
       "      <td>1973</td>\n",
       "      <td>1</td>\n",
       "      <td>2019</td>\n",
       "      <td>9</td>\n",
       "      <td>29</td>\n",
       "      <td>Sunday</td>\n",
       "      <td>0</td>\n",
       "    </tr>\n",
       "    <tr>\n",
       "      <th>4</th>\n",
       "      <td>2019-09-30 02:00:00+02:00</td>\n",
       "      <td>1908</td>\n",
       "      <td>1</td>\n",
       "      <td>2019</td>\n",
       "      <td>9</td>\n",
       "      <td>30</td>\n",
       "      <td>Monday</td>\n",
       "      <td>0</td>\n",
       "    </tr>\n",
       "  </tbody>\n",
       "</table>\n",
       "</div>"
      ],
      "text/plain": [
       "                  timestamp  count  window  year  month  day  day_name  \\\n",
       "0 2019-09-26 02:00:00+02:00    764       1  2019      9   26  Thursday   \n",
       "1 2019-09-27 02:00:00+02:00      0       1  2019      9   27    Friday   \n",
       "2 2019-09-28 02:00:00+02:00      0       1  2019      9   28  Saturday   \n",
       "3 2019-09-29 02:00:00+02:00   1973       1  2019      9   29    Sunday   \n",
       "4 2019-09-30 02:00:00+02:00   1908       1  2019      9   30    Monday   \n",
       "\n",
       "   official_vacation  \n",
       "0                  0  \n",
       "1                  0  \n",
       "2                  0  \n",
       "3                  0  \n",
       "4                  0  "
      ]
     },
     "execution_count": 29,
     "metadata": {},
     "output_type": "execute_result"
    }
   ],
   "source": [
    "df.head()"
   ]
  },
  {
   "cell_type": "code",
   "execution_count": 30,
   "metadata": {},
   "outputs": [
    {
     "data": {
      "image/png": "[encoded data removed]",
      "text/plain": [
       "<Figure size 720x504 with 1 Axes>"
      ]
     },
     "metadata": {},
     "output_type": "display_data"
    }
   ],
   "source": [
    "# distribution of count column.\n",
    "sns.set()\n",
    "plt.figure(figsize=(10,7))\n",
    "plt.hist(df['count'],bins=50)\n",
    "plt.show()"
   ]
  },
  {
   "cell_type": "markdown",
   "metadata": {},
   "source": [
    "### aggregate on date"
   ]
  },
  {
   "cell_type": "code",
   "execution_count": 31,
   "metadata": {},
   "outputs": [
    {
     "data": {
      "text/plain": [
       "day_name\n",
       "Friday         0.000000\n",
       "Saturday       0.000000\n",
       "Wednesday    320.365169\n",
       "Thursday     325.698402\n",
       "Sunday       374.934035\n",
       "Monday       381.452949\n",
       "Tuesday      435.759831\n",
       "Name: count, dtype: float64"
      ]
     },
     "execution_count": 31,
     "metadata": {},
     "output_type": "execute_result"
    }
   ],
   "source": [
    "# aggregation day_name with count, we notic that friday and saturday are holiday.\n",
    "agg_day_name = df.groupby('day_name')['count'].mean().sort_values()\n",
    "agg_day_name"
   ]
  },
  {
   "cell_type": "code",
   "execution_count": 32,
   "metadata": {},
   "outputs": [
    {
     "data": {
      "image/png": "[encoded data removed]",
      "text/plain": [
       "<Figure size 720x504 with 1 Axes>"
      ]
     },
     "metadata": {},
     "output_type": "display_data"
    }
   ],
   "source": [
    "plt.figure(figsize=(10,7))\n",
    "sns.barplot(x=agg_day_name.index, y=agg_day_name.values, color='#174d8a')\n",
    "plt.title('Average of count by day name')\n",
    "plt.show()"
   ]
  },
  {
   "cell_type": "code",
   "execution_count": 33,
   "metadata": {},
   "outputs": [
    {
     "data": {
      "text/plain": [
       "day\n",
       "28    218.477876\n",
       "12    223.241590\n",
       "25    223.656442\n",
       "19    224.452599\n",
       "20    226.171254\n",
       "Name: count, dtype: float64"
      ]
     },
     "execution_count": 33,
     "metadata": {},
     "output_type": "execute_result"
    }
   ],
   "source": [
    "# aggregation day with count.\n",
    "agg_day = df.groupby('day')['count'].mean().sort_values()\n",
    "agg_day.head()"
   ]
  },
  {
   "cell_type": "code",
   "execution_count": 34,
   "metadata": {},
   "outputs": [
    {
     "data": {
      "image/png": "[encoded data removed]",
      "text/plain": [
       "<Figure size 720x504 with 1 Axes>"
      ]
     },
     "metadata": {},
     "output_type": "display_data"
    }
   ],
   "source": [
    "plt.figure(figsize=(10,7))\n",
    "sns.barplot(x=agg_day.index, y=agg_day.values, color='#174d8a')\n",
    "plt.title('Average of count by day name')\n",
    "plt.show()"
   ]
  },
  {
   "cell_type": "code",
   "execution_count": 35,
   "metadata": {},
   "outputs": [
    {
     "data": {
      "text/plain": [
       "year\n",
       "2020    232.256831\n",
       "2019    283.481100\n",
       "2021    304.862125\n",
       "Name: count, dtype: float64"
      ]
     },
     "execution_count": 35,
     "metadata": {},
     "output_type": "execute_result"
    }
   ],
   "source": [
    "# aggregation day_name with count, we notic that 2020 have little average count.\n",
    "agg_year = df.groupby('year')['count'].mean().sort_values()\n",
    "agg_year.head()"
   ]
  },
  {
   "cell_type": "code",
   "execution_count": 36,
   "metadata": {},
   "outputs": [
    {
     "data": {
      "image/png": "[encoded data removed]",
      "text/plain": [
       "<Figure size 720x504 with 1 Axes>"
      ]
     },
     "metadata": {},
     "output_type": "display_data"
    }
   ],
   "source": [
    "plt.figure(figsize=(10,7))\n",
    "sns.barplot(x=agg_year.index, y=agg_year.values, color='#174d8a')\n",
    "plt.title('Average of count by day name')\n",
    "plt.show()"
   ]
  },
  {
   "cell_type": "code",
   "execution_count": 37,
   "metadata": {},
   "outputs": [
    {
     "data": {
      "text/plain": [
       "month\n",
       "5    178.508602\n",
       "4    208.742222\n",
       "8    232.948387\n",
       "9    236.352381\n",
       "7    237.869773\n",
       "Name: count, dtype: float64"
      ]
     },
     "execution_count": 37,
     "metadata": {},
     "output_type": "execute_result"
    }
   ],
   "source": [
    "# aggregation month with count, we notic this december month has highest average of count.\n",
    "agg_month = df.groupby('month')['count'].mean().sort_values()\n",
    "agg_month.head()"
   ]
  },
  {
   "cell_type": "code",
   "execution_count": 38,
   "metadata": {},
   "outputs": [
    {
     "data": {
      "image/png": "[encoded data removed]",
      "text/plain": [
       "<Figure size 720x504 with 1 Axes>"
      ]
     },
     "metadata": {},
     "output_type": "display_data"
    }
   ],
   "source": [
    "plt.figure(figsize=(10,7))\n",
    "sns.barplot(x=agg_month.index, y=agg_month.values, color='#174d8a')\n",
    "plt.title('Average of count by day name')\n",
    "plt.show()"
   ]
  },
  {
   "cell_type": "markdown",
   "metadata": {},
   "source": [
    "### Data Prepration"
   ]
  },
  {
   "cell_type": "markdown",
   "metadata": {},
   "source": [
    "### Merge Data"
   ]
  },
  {
   "cell_type": "code",
   "execution_count": 39,
   "metadata": {},
   "outputs": [
    {
     "data": {
      "text/html": [
       "<div>\n",
       "<style scoped>\n",
       "    .dataframe tbody tr th:only-of-type {\n",
       "        vertical-align: middle;\n",
       "    }\n",
       "\n",
       "    .dataframe tbody tr th {\n",
       "        vertical-align: top;\n",
       "    }\n",
       "\n",
       "    .dataframe thead th {\n",
       "        text-align: right;\n",
       "    }\n",
       "</style>\n",
       "<table border=\"1\" class=\"dataframe\">\n",
       "  <thead>\n",
       "    <tr style=\"text-align: right;\">\n",
       "      <th></th>\n",
       "      <th>timestamp</th>\n",
       "      <th>count</th>\n",
       "      <th>window</th>\n",
       "      <th>year</th>\n",
       "      <th>month</th>\n",
       "      <th>day</th>\n",
       "      <th>day_name</th>\n",
       "      <th>official_vacation</th>\n",
       "      <th>Confirmed</th>\n",
       "      <th>Recovered</th>\n",
       "      <th>Deaths</th>\n",
       "    </tr>\n",
       "  </thead>\n",
       "  <tbody>\n",
       "    <tr>\n",
       "      <th>10008</th>\n",
       "      <td>2021-07-27 02:00:00+02:00</td>\n",
       "      <td>173</td>\n",
       "      <td>15</td>\n",
       "      <td>2021</td>\n",
       "      <td>7</td>\n",
       "      <td>27</td>\n",
       "      <td>Tuesday</td>\n",
       "      <td>0</td>\n",
       "      <td>31.0</td>\n",
       "      <td>654.0</td>\n",
       "      <td>4.0</td>\n",
       "    </tr>\n",
       "    <tr>\n",
       "      <th>10009</th>\n",
       "      <td>2021-07-28 02:00:00+02:00</td>\n",
       "      <td>117</td>\n",
       "      <td>15</td>\n",
       "      <td>2021</td>\n",
       "      <td>7</td>\n",
       "      <td>28</td>\n",
       "      <td>Wednesday</td>\n",
       "      <td>0</td>\n",
       "      <td>38.0</td>\n",
       "      <td>212.0</td>\n",
       "      <td>9.0</td>\n",
       "    </tr>\n",
       "    <tr>\n",
       "      <th>10010</th>\n",
       "      <td>2021-07-29 02:00:00+02:00</td>\n",
       "      <td>137</td>\n",
       "      <td>15</td>\n",
       "      <td>2021</td>\n",
       "      <td>7</td>\n",
       "      <td>29</td>\n",
       "      <td>Thursday</td>\n",
       "      <td>0</td>\n",
       "      <td>42.0</td>\n",
       "      <td>331.0</td>\n",
       "      <td>7.0</td>\n",
       "    </tr>\n",
       "    <tr>\n",
       "      <th>10011</th>\n",
       "      <td>2021-07-30 02:00:00+02:00</td>\n",
       "      <td>0</td>\n",
       "      <td>15</td>\n",
       "      <td>2021</td>\n",
       "      <td>7</td>\n",
       "      <td>30</td>\n",
       "      <td>Friday</td>\n",
       "      <td>0</td>\n",
       "      <td>45.0</td>\n",
       "      <td>545.0</td>\n",
       "      <td>4.0</td>\n",
       "    </tr>\n",
       "    <tr>\n",
       "      <th>10012</th>\n",
       "      <td>2021-07-31 02:00:00+02:00</td>\n",
       "      <td>0</td>\n",
       "      <td>15</td>\n",
       "      <td>2021</td>\n",
       "      <td>7</td>\n",
       "      <td>31</td>\n",
       "      <td>Saturday</td>\n",
       "      <td>0</td>\n",
       "      <td>47.0</td>\n",
       "      <td>656.0</td>\n",
       "      <td>6.0</td>\n",
       "    </tr>\n",
       "  </tbody>\n",
       "</table>\n",
       "</div>"
      ],
      "text/plain": [
       "                      timestamp  count  window  year  month  day   day_name  \\\n",
       "10008 2021-07-27 02:00:00+02:00    173      15  2021      7   27    Tuesday   \n",
       "10009 2021-07-28 02:00:00+02:00    117      15  2021      7   28  Wednesday   \n",
       "10010 2021-07-29 02:00:00+02:00    137      15  2021      7   29   Thursday   \n",
       "10011 2021-07-30 02:00:00+02:00      0      15  2021      7   30     Friday   \n",
       "10012 2021-07-31 02:00:00+02:00      0      15  2021      7   31   Saturday   \n",
       "\n",
       "       official_vacation  Confirmed  Recovered  Deaths  \n",
       "10008                  0       31.0      654.0     4.0  \n",
       "10009                  0       38.0      212.0     9.0  \n",
       "10010                  0       42.0      331.0     7.0  \n",
       "10011                  0       45.0      545.0     4.0  \n",
       "10012                  0       47.0      656.0     6.0  "
      ]
     },
     "execution_count": 39,
     "metadata": {},
     "output_type": "execute_result"
    }
   ],
   "source": [
    "# merge covid dataset with bank traffic dataset, based on year, month and day columns.\n",
    "df = df.merge(covid_df, how='left', on=['year','month','day'])\n",
    "df.tail()"
   ]
  },
  {
   "cell_type": "code",
   "execution_count": 40,
   "metadata": {},
   "outputs": [
    {
     "data": {
      "text/plain": [
       "timestamp               0\n",
       "count                   0\n",
       "window                  0\n",
       "year                    0\n",
       "month                   0\n",
       "day                     0\n",
       "day_name                0\n",
       "official_vacation       0\n",
       "Confirmed            1785\n",
       "Recovered            1785\n",
       "Deaths               1785\n",
       "dtype: int64"
      ]
     },
     "execution_count": 40,
     "metadata": {},
     "output_type": "execute_result"
    }
   ],
   "source": [
    "# null values before corona comming, so we will fill nan values by zero.\n",
    "df.isnull().sum()"
   ]
  },
  {
   "cell_type": "code",
   "execution_count": 41,
   "metadata": {},
   "outputs": [
    {
     "data": {
      "text/plain": [
       "(10013, 11)"
      ]
     },
     "execution_count": 41,
     "metadata": {},
     "output_type": "execute_result"
    }
   ],
   "source": [
    "# sure that merged data has same dimension of bank traffic data.\n",
    "df.shape"
   ]
  },
  {
   "cell_type": "code",
   "execution_count": 42,
   "metadata": {},
   "outputs": [],
   "source": [
    "# fill nan values by zero.\n",
    "df.fillna(0,inplace=True)"
   ]
  },
  {
   "cell_type": "code",
   "execution_count": 43,
   "metadata": {},
   "outputs": [],
   "source": [
    "# replace recovered mius values by zero.\n",
    "df.loc[df.Recovered<0, \"Recovered\"] = 0"
   ]
  },
  {
   "cell_type": "code",
   "execution_count": 44,
   "metadata": {},
   "outputs": [
    {
     "data": {
      "text/html": [
       "<div>\n",
       "<style scoped>\n",
       "    .dataframe tbody tr th:only-of-type {\n",
       "        vertical-align: middle;\n",
       "    }\n",
       "\n",
       "    .dataframe tbody tr th {\n",
       "        vertical-align: top;\n",
       "    }\n",
       "\n",
       "    .dataframe thead th {\n",
       "        text-align: right;\n",
       "    }\n",
       "</style>\n",
       "<table border=\"1\" class=\"dataframe\">\n",
       "  <thead>\n",
       "    <tr style=\"text-align: right;\">\n",
       "      <th></th>\n",
       "      <th>timestamp</th>\n",
       "      <th>count</th>\n",
       "      <th>window</th>\n",
       "      <th>year</th>\n",
       "      <th>month</th>\n",
       "      <th>day</th>\n",
       "      <th>day_name</th>\n",
       "      <th>official_vacation</th>\n",
       "      <th>Confirmed</th>\n",
       "      <th>Recovered</th>\n",
       "      <th>...</th>\n",
       "      <th>year_2019</th>\n",
       "      <th>year_2020</th>\n",
       "      <th>year_2021</th>\n",
       "      <th>Friday</th>\n",
       "      <th>Monday</th>\n",
       "      <th>Saturday</th>\n",
       "      <th>Sunday</th>\n",
       "      <th>Thursday</th>\n",
       "      <th>Tuesday</th>\n",
       "      <th>Wednesday</th>\n",
       "    </tr>\n",
       "  </thead>\n",
       "  <tbody>\n",
       "    <tr>\n",
       "      <th>0</th>\n",
       "      <td>2019-09-26 02:00:00+02:00</td>\n",
       "      <td>764</td>\n",
       "      <td>1</td>\n",
       "      <td>2019</td>\n",
       "      <td>9</td>\n",
       "      <td>26</td>\n",
       "      <td>Thursday</td>\n",
       "      <td>0</td>\n",
       "      <td>0.0</td>\n",
       "      <td>0.0</td>\n",
       "      <td>...</td>\n",
       "      <td>1</td>\n",
       "      <td>0</td>\n",
       "      <td>0</td>\n",
       "      <td>0</td>\n",
       "      <td>0</td>\n",
       "      <td>0</td>\n",
       "      <td>0</td>\n",
       "      <td>1</td>\n",
       "      <td>0</td>\n",
       "      <td>0</td>\n",
       "    </tr>\n",
       "    <tr>\n",
       "      <th>1</th>\n",
       "      <td>2019-09-27 02:00:00+02:00</td>\n",
       "      <td>0</td>\n",
       "      <td>1</td>\n",
       "      <td>2019</td>\n",
       "      <td>9</td>\n",
       "      <td>27</td>\n",
       "      <td>Friday</td>\n",
       "      <td>0</td>\n",
       "      <td>0.0</td>\n",
       "      <td>0.0</td>\n",
       "      <td>...</td>\n",
       "      <td>1</td>\n",
       "      <td>0</td>\n",
       "      <td>0</td>\n",
       "      <td>1</td>\n",
       "      <td>0</td>\n",
       "      <td>0</td>\n",
       "      <td>0</td>\n",
       "      <td>0</td>\n",
       "      <td>0</td>\n",
       "      <td>0</td>\n",
       "    </tr>\n",
       "    <tr>\n",
       "      <th>2</th>\n",
       "      <td>2019-09-28 02:00:00+02:00</td>\n",
       "      <td>0</td>\n",
       "      <td>1</td>\n",
       "      <td>2019</td>\n",
       "      <td>9</td>\n",
       "      <td>28</td>\n",
       "      <td>Saturday</td>\n",
       "      <td>0</td>\n",
       "      <td>0.0</td>\n",
       "      <td>0.0</td>\n",
       "      <td>...</td>\n",
       "      <td>1</td>\n",
       "      <td>0</td>\n",
       "      <td>0</td>\n",
       "      <td>0</td>\n",
       "      <td>0</td>\n",
       "      <td>1</td>\n",
       "      <td>0</td>\n",
       "      <td>0</td>\n",
       "      <td>0</td>\n",
       "      <td>0</td>\n",
       "    </tr>\n",
       "    <tr>\n",
       "      <th>3</th>\n",
       "      <td>2019-09-29 02:00:00+02:00</td>\n",
       "      <td>1973</td>\n",
       "      <td>1</td>\n",
       "      <td>2019</td>\n",
       "      <td>9</td>\n",
       "      <td>29</td>\n",
       "      <td>Sunday</td>\n",
       "      <td>0</td>\n",
       "      <td>0.0</td>\n",
       "      <td>0.0</td>\n",
       "      <td>...</td>\n",
       "      <td>1</td>\n",
       "      <td>0</td>\n",
       "      <td>0</td>\n",
       "      <td>0</td>\n",
       "      <td>0</td>\n",
       "      <td>0</td>\n",
       "      <td>1</td>\n",
       "      <td>0</td>\n",
       "      <td>0</td>\n",
       "      <td>0</td>\n",
       "    </tr>\n",
       "    <tr>\n",
       "      <th>4</th>\n",
       "      <td>2019-09-30 02:00:00+02:00</td>\n",
       "      <td>1908</td>\n",
       "      <td>1</td>\n",
       "      <td>2019</td>\n",
       "      <td>9</td>\n",
       "      <td>30</td>\n",
       "      <td>Monday</td>\n",
       "      <td>0</td>\n",
       "      <td>0.0</td>\n",
       "      <td>0.0</td>\n",
       "      <td>...</td>\n",
       "      <td>1</td>\n",
       "      <td>0</td>\n",
       "      <td>0</td>\n",
       "      <td>0</td>\n",
       "      <td>1</td>\n",
       "      <td>0</td>\n",
       "      <td>0</td>\n",
       "      <td>0</td>\n",
       "      <td>0</td>\n",
       "      <td>0</td>\n",
       "    </tr>\n",
       "  </tbody>\n",
       "</table>\n",
       "<p>5 rows × 21 columns</p>\n",
       "</div>"
      ],
      "text/plain": [
       "                  timestamp  count  window  year  month  day  day_name  \\\n",
       "0 2019-09-26 02:00:00+02:00    764       1  2019      9   26  Thursday   \n",
       "1 2019-09-27 02:00:00+02:00      0       1  2019      9   27    Friday   \n",
       "2 2019-09-28 02:00:00+02:00      0       1  2019      9   28  Saturday   \n",
       "3 2019-09-29 02:00:00+02:00   1973       1  2019      9   29    Sunday   \n",
       "4 2019-09-30 02:00:00+02:00   1908       1  2019      9   30    Monday   \n",
       "\n",
       "   official_vacation  Confirmed  Recovered  ...  year_2019  year_2020  \\\n",
       "0                  0        0.0        0.0  ...          1          0   \n",
       "1                  0        0.0        0.0  ...          1          0   \n",
       "2                  0        0.0        0.0  ...          1          0   \n",
       "3                  0        0.0        0.0  ...          1          0   \n",
       "4                  0        0.0        0.0  ...          1          0   \n",
       "\n",
       "   year_2021  Friday  Monday  Saturday  Sunday  Thursday  Tuesday  Wednesday  \n",
       "0          0       0       0         0       0         1        0          0  \n",
       "1          0       1       0         0       0         0        0          0  \n",
       "2          0       0       0         1       0         0        0          0  \n",
       "3          0       0       0         0       1         0        0          0  \n",
       "4          0       0       1         0       0         0        0          0  \n",
       "\n",
       "[5 rows x 21 columns]"
      ]
     },
     "execution_count": 44,
     "metadata": {},
     "output_type": "execute_result"
    }
   ],
   "source": [
    "# onehotencode for year and day_name columns.\n",
    "df = pd.concat([df, pd.get_dummies(df['year'], prefix=\"year\")], axis=1)\n",
    "# df = pd.concat([df, pd.get_dummies(df['month'], prefix=\"month\")], axis=1)\n",
    "df = pd.concat([df, pd.get_dummies(df['day_name'])], axis=1)\n",
    "df.head()"
   ]
  },
  {
   "cell_type": "code",
   "execution_count": 45,
   "metadata": {},
   "outputs": [
    {
     "data": {
      "text/html": [
       "<div>\n",
       "<style scoped>\n",
       "    .dataframe tbody tr th:only-of-type {\n",
       "        vertical-align: middle;\n",
       "    }\n",
       "\n",
       "    .dataframe tbody tr th {\n",
       "        vertical-align: top;\n",
       "    }\n",
       "\n",
       "    .dataframe thead th {\n",
       "        text-align: right;\n",
       "    }\n",
       "</style>\n",
       "<table border=\"1\" class=\"dataframe\">\n",
       "  <thead>\n",
       "    <tr style=\"text-align: right;\">\n",
       "      <th></th>\n",
       "      <th>timestamp</th>\n",
       "      <th>window</th>\n",
       "      <th>year</th>\n",
       "      <th>month</th>\n",
       "      <th>day</th>\n",
       "      <th>day_name</th>\n",
       "      <th>official_vacation</th>\n",
       "      <th>Confirmed</th>\n",
       "      <th>Recovered</th>\n",
       "      <th>Deaths</th>\n",
       "      <th>...</th>\n",
       "      <th>year_2020</th>\n",
       "      <th>year_2021</th>\n",
       "      <th>Friday</th>\n",
       "      <th>Monday</th>\n",
       "      <th>Saturday</th>\n",
       "      <th>Sunday</th>\n",
       "      <th>Thursday</th>\n",
       "      <th>Tuesday</th>\n",
       "      <th>Wednesday</th>\n",
       "      <th>count</th>\n",
       "    </tr>\n",
       "  </thead>\n",
       "  <tbody>\n",
       "    <tr>\n",
       "      <th>0</th>\n",
       "      <td>2019-09-26 02:00:00+02:00</td>\n",
       "      <td>1</td>\n",
       "      <td>2019</td>\n",
       "      <td>9</td>\n",
       "      <td>26</td>\n",
       "      <td>Thursday</td>\n",
       "      <td>0</td>\n",
       "      <td>0.0</td>\n",
       "      <td>0.0</td>\n",
       "      <td>0.0</td>\n",
       "      <td>...</td>\n",
       "      <td>0</td>\n",
       "      <td>0</td>\n",
       "      <td>0</td>\n",
       "      <td>0</td>\n",
       "      <td>0</td>\n",
       "      <td>0</td>\n",
       "      <td>1</td>\n",
       "      <td>0</td>\n",
       "      <td>0</td>\n",
       "      <td>764</td>\n",
       "    </tr>\n",
       "    <tr>\n",
       "      <th>1</th>\n",
       "      <td>2019-09-27 02:00:00+02:00</td>\n",
       "      <td>1</td>\n",
       "      <td>2019</td>\n",
       "      <td>9</td>\n",
       "      <td>27</td>\n",
       "      <td>Friday</td>\n",
       "      <td>0</td>\n",
       "      <td>0.0</td>\n",
       "      <td>0.0</td>\n",
       "      <td>0.0</td>\n",
       "      <td>...</td>\n",
       "      <td>0</td>\n",
       "      <td>0</td>\n",
       "      <td>1</td>\n",
       "      <td>0</td>\n",
       "      <td>0</td>\n",
       "      <td>0</td>\n",
       "      <td>0</td>\n",
       "      <td>0</td>\n",
       "      <td>0</td>\n",
       "      <td>0</td>\n",
       "    </tr>\n",
       "    <tr>\n",
       "      <th>2</th>\n",
       "      <td>2019-09-28 02:00:00+02:00</td>\n",
       "      <td>1</td>\n",
       "      <td>2019</td>\n",
       "      <td>9</td>\n",
       "      <td>28</td>\n",
       "      <td>Saturday</td>\n",
       "      <td>0</td>\n",
       "      <td>0.0</td>\n",
       "      <td>0.0</td>\n",
       "      <td>0.0</td>\n",
       "      <td>...</td>\n",
       "      <td>0</td>\n",
       "      <td>0</td>\n",
       "      <td>0</td>\n",
       "      <td>0</td>\n",
       "      <td>1</td>\n",
       "      <td>0</td>\n",
       "      <td>0</td>\n",
       "      <td>0</td>\n",
       "      <td>0</td>\n",
       "      <td>0</td>\n",
       "    </tr>\n",
       "    <tr>\n",
       "      <th>3</th>\n",
       "      <td>2019-09-29 02:00:00+02:00</td>\n",
       "      <td>1</td>\n",
       "      <td>2019</td>\n",
       "      <td>9</td>\n",
       "      <td>29</td>\n",
       "      <td>Sunday</td>\n",
       "      <td>0</td>\n",
       "      <td>0.0</td>\n",
       "      <td>0.0</td>\n",
       "      <td>0.0</td>\n",
       "      <td>...</td>\n",
       "      <td>0</td>\n",
       "      <td>0</td>\n",
       "      <td>0</td>\n",
       "      <td>0</td>\n",
       "      <td>0</td>\n",
       "      <td>1</td>\n",
       "      <td>0</td>\n",
       "      <td>0</td>\n",
       "      <td>0</td>\n",
       "      <td>1973</td>\n",
       "    </tr>\n",
       "    <tr>\n",
       "      <th>4</th>\n",
       "      <td>2019-09-30 02:00:00+02:00</td>\n",
       "      <td>1</td>\n",
       "      <td>2019</td>\n",
       "      <td>9</td>\n",
       "      <td>30</td>\n",
       "      <td>Monday</td>\n",
       "      <td>0</td>\n",
       "      <td>0.0</td>\n",
       "      <td>0.0</td>\n",
       "      <td>0.0</td>\n",
       "      <td>...</td>\n",
       "      <td>0</td>\n",
       "      <td>0</td>\n",
       "      <td>0</td>\n",
       "      <td>1</td>\n",
       "      <td>0</td>\n",
       "      <td>0</td>\n",
       "      <td>0</td>\n",
       "      <td>0</td>\n",
       "      <td>0</td>\n",
       "      <td>1908</td>\n",
       "    </tr>\n",
       "  </tbody>\n",
       "</table>\n",
       "<p>5 rows × 21 columns</p>\n",
       "</div>"
      ],
      "text/plain": [
       "                  timestamp  window  year  month  day  day_name  \\\n",
       "0 2019-09-26 02:00:00+02:00       1  2019      9   26  Thursday   \n",
       "1 2019-09-27 02:00:00+02:00       1  2019      9   27    Friday   \n",
       "2 2019-09-28 02:00:00+02:00       1  2019      9   28  Saturday   \n",
       "3 2019-09-29 02:00:00+02:00       1  2019      9   29    Sunday   \n",
       "4 2019-09-30 02:00:00+02:00       1  2019      9   30    Monday   \n",
       "\n",
       "   official_vacation  Confirmed  Recovered  Deaths  ...  year_2020  year_2021  \\\n",
       "0                  0        0.0        0.0     0.0  ...          0          0   \n",
       "1                  0        0.0        0.0     0.0  ...          0          0   \n",
       "2                  0        0.0        0.0     0.0  ...          0          0   \n",
       "3                  0        0.0        0.0     0.0  ...          0          0   \n",
       "4                  0        0.0        0.0     0.0  ...          0          0   \n",
       "\n",
       "   Friday  Monday  Saturday  Sunday  Thursday  Tuesday  Wednesday  count  \n",
       "0       0       0         0       0         1        0          0    764  \n",
       "1       1       0         0       0         0        0          0      0  \n",
       "2       0       0         1       0         0        0          0      0  \n",
       "3       0       0         0       1         0        0          0   1973  \n",
       "4       0       1         0       0         0        0          0   1908  \n",
       "\n",
       "[5 rows x 21 columns]"
      ]
     },
     "execution_count": 45,
     "metadata": {},
     "output_type": "execute_result"
    }
   ],
   "source": [
    "# pop count column and add it at end of data, that is the target column.\n",
    "columns = df.columns.tolist()\n",
    "columns.append(columns.pop(1))\n",
    "df = df[columns]\n",
    "df.head()"
   ]
  },
  {
   "cell_type": "code",
   "execution_count": 46,
   "metadata": {
    "scrolled": true
   },
   "outputs": [
    {
     "data": {
      "text/html": [
       "<div>\n",
       "<style scoped>\n",
       "    .dataframe tbody tr th:only-of-type {\n",
       "        vertical-align: middle;\n",
       "    }\n",
       "\n",
       "    .dataframe tbody tr th {\n",
       "        vertical-align: top;\n",
       "    }\n",
       "\n",
       "    .dataframe thead th {\n",
       "        text-align: right;\n",
       "    }\n",
       "</style>\n",
       "<table border=\"1\" class=\"dataframe\">\n",
       "  <thead>\n",
       "    <tr style=\"text-align: right;\">\n",
       "      <th></th>\n",
       "      <th>window</th>\n",
       "      <th>month</th>\n",
       "      <th>day</th>\n",
       "      <th>official_vacation</th>\n",
       "      <th>Confirmed</th>\n",
       "      <th>Deaths</th>\n",
       "      <th>year_2019</th>\n",
       "      <th>year_2020</th>\n",
       "      <th>year_2021</th>\n",
       "      <th>Friday</th>\n",
       "      <th>Monday</th>\n",
       "      <th>Saturday</th>\n",
       "      <th>Sunday</th>\n",
       "      <th>Thursday</th>\n",
       "      <th>Tuesday</th>\n",
       "      <th>Wednesday</th>\n",
       "      <th>count</th>\n",
       "    </tr>\n",
       "  </thead>\n",
       "  <tbody>\n",
       "    <tr>\n",
       "      <th>0</th>\n",
       "      <td>1</td>\n",
       "      <td>9</td>\n",
       "      <td>26</td>\n",
       "      <td>0</td>\n",
       "      <td>0.0</td>\n",
       "      <td>0.0</td>\n",
       "      <td>1</td>\n",
       "      <td>0</td>\n",
       "      <td>0</td>\n",
       "      <td>0</td>\n",
       "      <td>0</td>\n",
       "      <td>0</td>\n",
       "      <td>0</td>\n",
       "      <td>1</td>\n",
       "      <td>0</td>\n",
       "      <td>0</td>\n",
       "      <td>764</td>\n",
       "    </tr>\n",
       "    <tr>\n",
       "      <th>1</th>\n",
       "      <td>1</td>\n",
       "      <td>9</td>\n",
       "      <td>27</td>\n",
       "      <td>0</td>\n",
       "      <td>0.0</td>\n",
       "      <td>0.0</td>\n",
       "      <td>1</td>\n",
       "      <td>0</td>\n",
       "      <td>0</td>\n",
       "      <td>1</td>\n",
       "      <td>0</td>\n",
       "      <td>0</td>\n",
       "      <td>0</td>\n",
       "      <td>0</td>\n",
       "      <td>0</td>\n",
       "      <td>0</td>\n",
       "      <td>0</td>\n",
       "    </tr>\n",
       "    <tr>\n",
       "      <th>2</th>\n",
       "      <td>1</td>\n",
       "      <td>9</td>\n",
       "      <td>28</td>\n",
       "      <td>0</td>\n",
       "      <td>0.0</td>\n",
       "      <td>0.0</td>\n",
       "      <td>1</td>\n",
       "      <td>0</td>\n",
       "      <td>0</td>\n",
       "      <td>0</td>\n",
       "      <td>0</td>\n",
       "      <td>1</td>\n",
       "      <td>0</td>\n",
       "      <td>0</td>\n",
       "      <td>0</td>\n",
       "      <td>0</td>\n",
       "      <td>0</td>\n",
       "    </tr>\n",
       "    <tr>\n",
       "      <th>3</th>\n",
       "      <td>1</td>\n",
       "      <td>9</td>\n",
       "      <td>29</td>\n",
       "      <td>0</td>\n",
       "      <td>0.0</td>\n",
       "      <td>0.0</td>\n",
       "      <td>1</td>\n",
       "      <td>0</td>\n",
       "      <td>0</td>\n",
       "      <td>0</td>\n",
       "      <td>0</td>\n",
       "      <td>0</td>\n",
       "      <td>1</td>\n",
       "      <td>0</td>\n",
       "      <td>0</td>\n",
       "      <td>0</td>\n",
       "      <td>1973</td>\n",
       "    </tr>\n",
       "    <tr>\n",
       "      <th>4</th>\n",
       "      <td>1</td>\n",
       "      <td>9</td>\n",
       "      <td>30</td>\n",
       "      <td>0</td>\n",
       "      <td>0.0</td>\n",
       "      <td>0.0</td>\n",
       "      <td>1</td>\n",
       "      <td>0</td>\n",
       "      <td>0</td>\n",
       "      <td>0</td>\n",
       "      <td>1</td>\n",
       "      <td>0</td>\n",
       "      <td>0</td>\n",
       "      <td>0</td>\n",
       "      <td>0</td>\n",
       "      <td>0</td>\n",
       "      <td>1908</td>\n",
       "    </tr>\n",
       "  </tbody>\n",
       "</table>\n",
       "</div>"
      ],
      "text/plain": [
       "   window  month  day  official_vacation  Confirmed  Deaths  year_2019  \\\n",
       "0       1      9   26                  0        0.0     0.0          1   \n",
       "1       1      9   27                  0        0.0     0.0          1   \n",
       "2       1      9   28                  0        0.0     0.0          1   \n",
       "3       1      9   29                  0        0.0     0.0          1   \n",
       "4       1      9   30                  0        0.0     0.0          1   \n",
       "\n",
       "   year_2020  year_2021  Friday  Monday  Saturday  Sunday  Thursday  Tuesday  \\\n",
       "0          0          0       0       0         0       0         1        0   \n",
       "1          0          0       1       0         0       0         0        0   \n",
       "2          0          0       0       0         1       0         0        0   \n",
       "3          0          0       0       0         0       1         0        0   \n",
       "4          0          0       0       1         0       0         0        0   \n",
       "\n",
       "   Wednesday  count  \n",
       "0          0    764  \n",
       "1          0      0  \n",
       "2          0      0  \n",
       "3          0   1973  \n",
       "4          0   1908  "
      ]
     },
     "execution_count": 46,
     "metadata": {},
     "output_type": "execute_result"
    }
   ],
   "source": [
    "# drop not needed columns.\n",
    "df_new = df.drop(['timestamp', 'year', 'day_name', \"Recovered\"], axis=1)\n",
    "df_new.head()"
   ]
  },
  {
   "cell_type": "code",
   "execution_count": 47,
   "metadata": {},
   "outputs": [
    {
     "data": {
      "text/plain": [
       "Friday              -0.236540\n",
       "Saturday            -0.236444\n",
       "window              -0.220977\n",
       "official_vacation   -0.160834\n",
       "year_2020           -0.072100\n",
       "day                 -0.020890\n",
       "Confirmed            0.002650\n",
       "year_2019            0.019572\n",
       "Deaths               0.020023\n",
       "month                0.050109\n",
       "Wednesday            0.052431\n",
       "Thursday             0.057568\n",
       "year_2021            0.062872\n",
       "Sunday               0.101448\n",
       "Monday               0.107257\n",
       "Tuesday              0.155998\n",
       "count                1.000000\n",
       "Name: count, dtype: float64"
      ]
     },
     "execution_count": 47,
     "metadata": {},
     "output_type": "execute_result"
    }
   ],
   "source": [
    "# calculate correlation matrix with target column..\n",
    "corrMatt = df_new.corr()\n",
    "corrMatt.loc[:,'count'].sort_values()"
   ]
  },
  {
   "cell_type": "markdown",
   "metadata": {},
   "source": [
    "## Data Split"
   ]
  },
  {
   "cell_type": "code",
   "execution_count": 48,
   "metadata": {},
   "outputs": [
    {
     "name": "stdout",
     "output_type": "stream",
     "text": [
      "X_train Shape =  (8010, 16)\n",
      "==============================\n",
      "X_valid Shape =  (2003, 16)\n"
     ]
    }
   ],
   "source": [
    "X_train, X_valid, y_train, y_valid = train_test_split(df_new.drop(['count'], axis=1),\n",
    "                                                      df_new['count'],\n",
    "                                                      test_size=0.2,\n",
    "                                                      random_state=42)\n",
    "\n",
    "print(\"X_train Shape = \", X_train.shape)\n",
    "print(\"=\"*30)\n",
    "print(\"X_valid Shape = \", X_valid.shape)"
   ]
  },
  {
   "cell_type": "markdown",
   "metadata": {},
   "source": [
    "## Train Model"
   ]
  },
  {
   "cell_type": "markdown",
   "metadata": {},
   "source": [
    "### GBoost"
   ]
  },
  {
   "cell_type": "code",
   "execution_count": 49,
   "metadata": {},
   "outputs": [
    {
     "name": "stdout",
     "output_type": "stream",
     "text": [
      "Mean Absolute Error Validation ====>  31.51252683867413\n",
      "Mean Absolute Error Validation ====>  53.318537509120794\n"
     ]
    }
   ],
   "source": [
    "params = {'n_estimators': 1000,\n",
    "          'max_depth': 5,\n",
    "          'random_state': 0,\n",
    "          'min_samples_leaf': 6,\n",
    "          'learning_rate': 0.05,\n",
    "          'subsample': 0.75,\n",
    "          'loss': 'ls'}\n",
    "\n",
    "reg = GradientBoostingRegressor(**params)\n",
    "reg.fit(X_train, y_train)\n",
    "val_pred = mean_absolute_error(y_train, reg.predict(X_train))\n",
    "print(\"Mean Absolute Error Validation ====> \", val_pred)\n",
    "val_pred = mean_absolute_error(y_valid, reg.predict(X_valid))\n",
    "print(\"Mean Absolute Error Validation ====> \", val_pred)"
   ]
  },
  {
   "cell_type": "markdown",
   "metadata": {},
   "source": [
    "### CatBoost"
   ]
  },
  {
   "cell_type": "code",
   "execution_count": 50,
   "metadata": {},
   "outputs": [
    {
     "name": "stdout",
     "output_type": "stream",
     "text": [
      "Mean Absolute Error Trian ====>  17.398876\n",
      "==============================\n",
      "RMSE Validation ====>  32.183852\n"
     ]
    }
   ],
   "source": [
    "catBoost = CatBoostRegressor(objective='Poisson',\n",
    "                             n_estimators=2000,\n",
    "                             random_state=0,\n",
    "                             learning_rate=0.05,\n",
    "                             subsample=0.75,\n",
    "                             max_depth=5,\n",
    "                             verbose=0)\n",
    "\n",
    "catBoost.fit(X_train,y_train)\n",
    "\n",
    "y_pred = [int(i) for i in catBoost.predict(X_train)]\n",
    "\n",
    "rmse_train = mean_absolute_error(y_train, y_pred)\n",
    "rmse_val = mean_absolute_error(y_valid, catBoost.predict(X_valid))\n",
    "\n",
    "print(\"Mean Absolute Error Trian ====> \",round(rmse_train,6))\n",
    "print('='*30)\n",
    "print(\"RMSE Validation ====> \",round(rmse_val,6))"
   ]
  },
  {
   "cell_type": "code",
   "execution_count": 51,
   "metadata": {},
   "outputs": [
    {
     "name": "stdout",
     "output_type": "stream",
     "text": [
      "R-squared for train data 0.9933356493119043\n",
      "==================================================\n",
      "R-squared for valid data 0.9541432516126209\n"
     ]
    },
    {
     "data": {
      "image/png": "[encoded data removed]",
      "text/plain": [
       "<Figure size 576x396 with 1 Axes>"
      ]
     },
     "metadata": {},
     "output_type": "display_data"
    }
   ],
   "source": [
    "plt.style.use('seaborn')\n",
    "y_pred = [int(i) for i in catBoost.predict(X_train)]\n",
    "print(\"R-squared for train data\",catBoost.score(X_train, y_train))\n",
    "print(\"=\"*50)\n",
    "print(\"R-squared for valid data\",catBoost.score(X_valid, y_valid))\n",
    "sns.scatterplot(y_train, y_pred)\n",
    "plt.title('Train count Vs Prediction')\n",
    "plt.xlabel(\"y_train\")\n",
    "plt.ylabel(\"y_pred\")\n",
    "plt.show()"
   ]
  },
  {
   "cell_type": "markdown",
   "metadata": {},
   "source": [
    "### XGBoost"
   ]
  },
  {
   "cell_type": "code",
   "execution_count": 52,
   "metadata": {},
   "outputs": [
    {
     "name": "stdout",
     "output_type": "stream",
     "text": [
      "Mean Absolute Error Train =====> 19.155181\n",
      "==============================\n",
      "Mean Absolute Error Validation ====> 31.763854\n"
     ]
    }
   ],
   "source": [
    "xg_reg = xgb.XGBRegressor(objective=\"count:poisson\",\n",
    "                          random_state=0,\n",
    "                          colsample_bytree = 0.6, \n",
    "                          learning_rate = 0.05,\n",
    "                          gamma = 8,\n",
    "                          n_estimators = 2000,\n",
    "                          max_depth=5 ,\n",
    "                          subsample=0.75,\n",
    "                          min_child_weight=5)\n",
    "\n",
    "xg_reg = xg_reg.fit(X_train,y_train)\n",
    "\n",
    "rmse_train = mean_absolute_error(y_train, [int(x) for  x in xg_reg.predict(X_train)])\n",
    "rmse_val = mean_absolute_error(y_valid, [int(x) for x in xg_reg.predict(X_valid)])\n",
    "\n",
    "print(\"Mean Absolute Error Train =====> %f\" % (round(rmse_train,6)))\n",
    "print('='*30)\n",
    "print(\"Mean Absolute Error Validation ====> %f\"%(round(rmse_val,6)))"
   ]
  },
  {
   "cell_type": "code",
   "execution_count": 53,
   "metadata": {},
   "outputs": [
    {
     "name": "stdout",
     "output_type": "stream",
     "text": [
      "RMSLE Trian ====>  0.115209\n",
      "==============================\n",
      "RMSLE Validation ====>  0.159041\n"
     ]
    }
   ],
   "source": [
    "rmse_train = np.sqrt(mean_squared_log_error(y_train,  xg_reg.predict(X_train)))\n",
    "rmse_val = np.sqrt(mean_squared_log_error(y_valid, xg_reg.predict(X_valid)))\n",
    "\n",
    "print(\"RMSLE Trian ====> \",round(rmse_train,6))\n",
    "print('='*30)\n",
    "print(\"RMSLE Validation ====> \",round(rmse_val,6))"
   ]
  },
  {
   "cell_type": "code",
   "execution_count": 54,
   "metadata": {},
   "outputs": [
    {
     "name": "stdout",
     "output_type": "stream",
     "text": [
      "R-squared for train data 0.9918097891258069\n",
      "==================================================\n",
      "R-squared for valid data 0.954605301372484\n"
     ]
    },
    {
     "data": {
      "image/png": "[encoded data removed]",
      "text/plain": [
       "<Figure size 576x396 with 1 Axes>"
      ]
     },
     "metadata": {},
     "output_type": "display_data"
    }
   ],
   "source": [
    "plt.style.use('seaborn')\n",
    "y_pred = [int(i) for i in xg_reg.predict(X_train)]\n",
    "print(\"R-squared for train data\",xg_reg.score(X_train, y_train))\n",
    "print(\"=\"*50)\n",
    "print(\"R-squared for valid data\",xg_reg.score(X_valid, y_valid))\n",
    "sns.scatterplot(y_train, y_pred)\n",
    "plt.title('Train count Vs Prediction')\n",
    "plt.xlabel(\"y_train\")\n",
    "plt.ylabel(\"y_pred\")\n",
    "plt.show()"
   ]
  },
  {
   "cell_type": "markdown",
   "metadata": {},
   "source": [
    "## Testing Model"
   ]
  },
  {
   "cell_type": "code",
   "execution_count": 55,
   "metadata": {},
   "outputs": [
    {
     "data": {
      "text/html": [
       "<div>\n",
       "<style scoped>\n",
       "    .dataframe tbody tr th:only-of-type {\n",
       "        vertical-align: middle;\n",
       "    }\n",
       "\n",
       "    .dataframe tbody tr th {\n",
       "        vertical-align: top;\n",
       "    }\n",
       "\n",
       "    .dataframe thead th {\n",
       "        text-align: right;\n",
       "    }\n",
       "</style>\n",
       "<table border=\"1\" class=\"dataframe\">\n",
       "  <thead>\n",
       "    <tr style=\"text-align: right;\">\n",
       "      <th></th>\n",
       "      <th>timestamp</th>\n",
       "      <th>window</th>\n",
       "      <th>year</th>\n",
       "      <th>month</th>\n",
       "      <th>day</th>\n",
       "      <th>day_name</th>\n",
       "    </tr>\n",
       "  </thead>\n",
       "  <tbody>\n",
       "    <tr>\n",
       "      <th>310</th>\n",
       "      <td>2021-08-01 02:00:00+02:00</td>\n",
       "      <td>1</td>\n",
       "      <td>2021</td>\n",
       "      <td>8</td>\n",
       "      <td>1</td>\n",
       "      <td>Sunday</td>\n",
       "    </tr>\n",
       "    <tr>\n",
       "      <th>311</th>\n",
       "      <td>2021-08-02 02:00:00+02:00</td>\n",
       "      <td>1</td>\n",
       "      <td>2021</td>\n",
       "      <td>8</td>\n",
       "      <td>2</td>\n",
       "      <td>Monday</td>\n",
       "    </tr>\n",
       "    <tr>\n",
       "      <th>312</th>\n",
       "      <td>2021-08-03 02:00:00+02:00</td>\n",
       "      <td>1</td>\n",
       "      <td>2021</td>\n",
       "      <td>8</td>\n",
       "      <td>3</td>\n",
       "      <td>Tuesday</td>\n",
       "    </tr>\n",
       "    <tr>\n",
       "      <th>313</th>\n",
       "      <td>2021-08-04 02:00:00+02:00</td>\n",
       "      <td>1</td>\n",
       "      <td>2021</td>\n",
       "      <td>8</td>\n",
       "      <td>4</td>\n",
       "      <td>Wednesday</td>\n",
       "    </tr>\n",
       "    <tr>\n",
       "      <th>314</th>\n",
       "      <td>2021-08-05 02:00:00+02:00</td>\n",
       "      <td>1</td>\n",
       "      <td>2021</td>\n",
       "      <td>8</td>\n",
       "      <td>5</td>\n",
       "      <td>Thursday</td>\n",
       "    </tr>\n",
       "  </tbody>\n",
       "</table>\n",
       "</div>"
      ],
      "text/plain": [
       "                    timestamp  window  year  month  day   day_name\n",
       "310 2021-08-01 02:00:00+02:00       1  2021      8    1     Sunday\n",
       "311 2021-08-02 02:00:00+02:00       1  2021      8    2     Monday\n",
       "312 2021-08-03 02:00:00+02:00       1  2021      8    3    Tuesday\n",
       "313 2021-08-04 02:00:00+02:00       1  2021      8    4  Wednesday\n",
       "314 2021-08-05 02:00:00+02:00       1  2021      8    5   Thursday"
      ]
     },
     "execution_count": 55,
     "metadata": {},
     "output_type": "execute_result"
    }
   ],
   "source": [
    "# creat test data it is star from (1/8/2021) to (31/8/2021)\n",
    "df_test = df[(df.year==2020)&(df.month==8)][[\"timestamp\", \"window\", \"year\", \"month\", \"day\"]]\n",
    "df_test.year = 2021\n",
    "df_test.timestamp = df_test.timestamp.apply(lambda dt: dt.replace(year=2021))\n",
    "df_test['day_name'] = df_test.timestamp.dt.day_name()\n",
    "df_test.head()"
   ]
  },
  {
   "cell_type": "code",
   "execution_count": 56,
   "metadata": {},
   "outputs": [],
   "source": [
    "# there is no official vacation in this period, so set to zero\n",
    "df_test['official_vacation'] = 0"
   ]
  },
  {
   "cell_type": "code",
   "execution_count": 57,
   "metadata": {},
   "outputs": [
    {
     "data": {
      "text/html": [
       "<div>\n",
       "<style scoped>\n",
       "    .dataframe tbody tr th:only-of-type {\n",
       "        vertical-align: middle;\n",
       "    }\n",
       "\n",
       "    .dataframe tbody tr th {\n",
       "        vertical-align: top;\n",
       "    }\n",
       "\n",
       "    .dataframe thead th {\n",
       "        text-align: right;\n",
       "    }\n",
       "</style>\n",
       "<table border=\"1\" class=\"dataframe\">\n",
       "  <thead>\n",
       "    <tr style=\"text-align: right;\">\n",
       "      <th></th>\n",
       "      <th>timestamp</th>\n",
       "      <th>window</th>\n",
       "      <th>year</th>\n",
       "      <th>month</th>\n",
       "      <th>day</th>\n",
       "      <th>day_name</th>\n",
       "      <th>official_vacation</th>\n",
       "      <th>Confirmed</th>\n",
       "      <th>Recovered</th>\n",
       "      <th>Deaths</th>\n",
       "    </tr>\n",
       "  </thead>\n",
       "  <tbody>\n",
       "    <tr>\n",
       "      <th>0</th>\n",
       "      <td>2021-08-01 02:00:00+02:00</td>\n",
       "      <td>1</td>\n",
       "      <td>2021</td>\n",
       "      <td>8</td>\n",
       "      <td>1</td>\n",
       "      <td>Sunday</td>\n",
       "      <td>0</td>\n",
       "      <td>49.0</td>\n",
       "      <td>331.0</td>\n",
       "      <td>4.0</td>\n",
       "    </tr>\n",
       "    <tr>\n",
       "      <th>1</th>\n",
       "      <td>2021-08-02 02:00:00+02:00</td>\n",
       "      <td>1</td>\n",
       "      <td>2021</td>\n",
       "      <td>8</td>\n",
       "      <td>2</td>\n",
       "      <td>Monday</td>\n",
       "      <td>0</td>\n",
       "      <td>51.0</td>\n",
       "      <td>560.0</td>\n",
       "      <td>7.0</td>\n",
       "    </tr>\n",
       "    <tr>\n",
       "      <th>2</th>\n",
       "      <td>2021-08-03 02:00:00+02:00</td>\n",
       "      <td>1</td>\n",
       "      <td>2021</td>\n",
       "      <td>8</td>\n",
       "      <td>3</td>\n",
       "      <td>Tuesday</td>\n",
       "      <td>0</td>\n",
       "      <td>53.0</td>\n",
       "      <td>801.0</td>\n",
       "      <td>5.0</td>\n",
       "    </tr>\n",
       "    <tr>\n",
       "      <th>3</th>\n",
       "      <td>2021-08-04 02:00:00+02:00</td>\n",
       "      <td>1</td>\n",
       "      <td>2021</td>\n",
       "      <td>8</td>\n",
       "      <td>4</td>\n",
       "      <td>Wednesday</td>\n",
       "      <td>0</td>\n",
       "      <td>57.0</td>\n",
       "      <td>119.0</td>\n",
       "      <td>10.0</td>\n",
       "    </tr>\n",
       "    <tr>\n",
       "      <th>4</th>\n",
       "      <td>2021-08-05 02:00:00+02:00</td>\n",
       "      <td>1</td>\n",
       "      <td>2021</td>\n",
       "      <td>8</td>\n",
       "      <td>5</td>\n",
       "      <td>Thursday</td>\n",
       "      <td>0</td>\n",
       "      <td>51.0</td>\n",
       "      <td>-232179.0</td>\n",
       "      <td>7.0</td>\n",
       "    </tr>\n",
       "  </tbody>\n",
       "</table>\n",
       "</div>"
      ],
      "text/plain": [
       "                  timestamp  window  year  month  day   day_name  \\\n",
       "0 2021-08-01 02:00:00+02:00       1  2021      8    1     Sunday   \n",
       "1 2021-08-02 02:00:00+02:00       1  2021      8    2     Monday   \n",
       "2 2021-08-03 02:00:00+02:00       1  2021      8    3    Tuesday   \n",
       "3 2021-08-04 02:00:00+02:00       1  2021      8    4  Wednesday   \n",
       "4 2021-08-05 02:00:00+02:00       1  2021      8    5   Thursday   \n",
       "\n",
       "   official_vacation  Confirmed  Recovered  Deaths  \n",
       "0                  0       49.0      331.0     4.0  \n",
       "1                  0       51.0      560.0     7.0  \n",
       "2                  0       53.0      801.0     5.0  \n",
       "3                  0       57.0      119.0    10.0  \n",
       "4                  0       51.0  -232179.0     7.0  "
      ]
     },
     "execution_count": 57,
     "metadata": {},
     "output_type": "execute_result"
    }
   ],
   "source": [
    "# merge test data with covid datasets, the same we do on train dataset.\n",
    "df_test = df_test.merge(covid_df, how='left', on=['year','month','day'])\n",
    "df_test.head()"
   ]
  },
  {
   "cell_type": "code",
   "execution_count": 58,
   "metadata": {},
   "outputs": [
    {
     "data": {
      "text/html": [
       "<div>\n",
       "<style scoped>\n",
       "    .dataframe tbody tr th:only-of-type {\n",
       "        vertical-align: middle;\n",
       "    }\n",
       "\n",
       "    .dataframe tbody tr th {\n",
       "        vertical-align: top;\n",
       "    }\n",
       "\n",
       "    .dataframe thead th {\n",
       "        text-align: right;\n",
       "    }\n",
       "</style>\n",
       "<table border=\"1\" class=\"dataframe\">\n",
       "  <thead>\n",
       "    <tr style=\"text-align: right;\">\n",
       "      <th></th>\n",
       "      <th>timestamp</th>\n",
       "      <th>window</th>\n",
       "      <th>year</th>\n",
       "      <th>month</th>\n",
       "      <th>day</th>\n",
       "      <th>day_name</th>\n",
       "      <th>official_vacation</th>\n",
       "      <th>Confirmed</th>\n",
       "      <th>Recovered</th>\n",
       "      <th>Deaths</th>\n",
       "      <th>year_2019</th>\n",
       "      <th>year_2020</th>\n",
       "      <th>year_2021</th>\n",
       "      <th>Friday</th>\n",
       "      <th>Monday</th>\n",
       "      <th>Saturday</th>\n",
       "      <th>Sunday</th>\n",
       "      <th>Thursday</th>\n",
       "      <th>Tuesday</th>\n",
       "      <th>Wednesday</th>\n",
       "    </tr>\n",
       "  </thead>\n",
       "  <tbody>\n",
       "    <tr>\n",
       "      <th>460</th>\n",
       "      <td>2021-08-27 02:00:00+02:00</td>\n",
       "      <td>15</td>\n",
       "      <td>2021</td>\n",
       "      <td>8</td>\n",
       "      <td>27</td>\n",
       "      <td>Friday</td>\n",
       "      <td>0</td>\n",
       "      <td>234.0</td>\n",
       "      <td>0.0</td>\n",
       "      <td>5.0</td>\n",
       "      <td>0</td>\n",
       "      <td>0</td>\n",
       "      <td>1</td>\n",
       "      <td>1</td>\n",
       "      <td>0</td>\n",
       "      <td>0</td>\n",
       "      <td>0</td>\n",
       "      <td>0</td>\n",
       "      <td>0</td>\n",
       "      <td>0</td>\n",
       "    </tr>\n",
       "    <tr>\n",
       "      <th>461</th>\n",
       "      <td>2021-08-28 02:00:00+02:00</td>\n",
       "      <td>15</td>\n",
       "      <td>2021</td>\n",
       "      <td>8</td>\n",
       "      <td>28</td>\n",
       "      <td>Saturday</td>\n",
       "      <td>0</td>\n",
       "      <td>251.0</td>\n",
       "      <td>0.0</td>\n",
       "      <td>8.0</td>\n",
       "      <td>0</td>\n",
       "      <td>0</td>\n",
       "      <td>1</td>\n",
       "      <td>0</td>\n",
       "      <td>0</td>\n",
       "      <td>1</td>\n",
       "      <td>0</td>\n",
       "      <td>0</td>\n",
       "      <td>0</td>\n",
       "      <td>0</td>\n",
       "    </tr>\n",
       "    <tr>\n",
       "      <th>462</th>\n",
       "      <td>2021-08-29 02:00:00+02:00</td>\n",
       "      <td>15</td>\n",
       "      <td>2021</td>\n",
       "      <td>8</td>\n",
       "      <td>29</td>\n",
       "      <td>Sunday</td>\n",
       "      <td>0</td>\n",
       "      <td>255.0</td>\n",
       "      <td>0.0</td>\n",
       "      <td>7.0</td>\n",
       "      <td>0</td>\n",
       "      <td>0</td>\n",
       "      <td>1</td>\n",
       "      <td>0</td>\n",
       "      <td>0</td>\n",
       "      <td>0</td>\n",
       "      <td>1</td>\n",
       "      <td>0</td>\n",
       "      <td>0</td>\n",
       "      <td>0</td>\n",
       "    </tr>\n",
       "    <tr>\n",
       "      <th>463</th>\n",
       "      <td>2021-08-30 02:00:00+02:00</td>\n",
       "      <td>15</td>\n",
       "      <td>2021</td>\n",
       "      <td>8</td>\n",
       "      <td>30</td>\n",
       "      <td>Monday</td>\n",
       "      <td>0</td>\n",
       "      <td>263.0</td>\n",
       "      <td>0.0</td>\n",
       "      <td>6.0</td>\n",
       "      <td>0</td>\n",
       "      <td>0</td>\n",
       "      <td>1</td>\n",
       "      <td>0</td>\n",
       "      <td>1</td>\n",
       "      <td>0</td>\n",
       "      <td>0</td>\n",
       "      <td>0</td>\n",
       "      <td>0</td>\n",
       "      <td>0</td>\n",
       "    </tr>\n",
       "    <tr>\n",
       "      <th>464</th>\n",
       "      <td>2021-08-31 02:00:00+02:00</td>\n",
       "      <td>15</td>\n",
       "      <td>2021</td>\n",
       "      <td>8</td>\n",
       "      <td>31</td>\n",
       "      <td>Tuesday</td>\n",
       "      <td>0</td>\n",
       "      <td>279.0</td>\n",
       "      <td>0.0</td>\n",
       "      <td>9.0</td>\n",
       "      <td>0</td>\n",
       "      <td>0</td>\n",
       "      <td>1</td>\n",
       "      <td>0</td>\n",
       "      <td>0</td>\n",
       "      <td>0</td>\n",
       "      <td>0</td>\n",
       "      <td>0</td>\n",
       "      <td>1</td>\n",
       "      <td>0</td>\n",
       "    </tr>\n",
       "  </tbody>\n",
       "</table>\n",
       "</div>"
      ],
      "text/plain": [
       "                    timestamp  window  year  month  day  day_name  \\\n",
       "460 2021-08-27 02:00:00+02:00      15  2021      8   27    Friday   \n",
       "461 2021-08-28 02:00:00+02:00      15  2021      8   28  Saturday   \n",
       "462 2021-08-29 02:00:00+02:00      15  2021      8   29    Sunday   \n",
       "463 2021-08-30 02:00:00+02:00      15  2021      8   30    Monday   \n",
       "464 2021-08-31 02:00:00+02:00      15  2021      8   31   Tuesday   \n",
       "\n",
       "     official_vacation  Confirmed  Recovered  Deaths  year_2019  year_2020  \\\n",
       "460                  0      234.0        0.0     5.0          0          0   \n",
       "461                  0      251.0        0.0     8.0          0          0   \n",
       "462                  0      255.0        0.0     7.0          0          0   \n",
       "463                  0      263.0        0.0     6.0          0          0   \n",
       "464                  0      279.0        0.0     9.0          0          0   \n",
       "\n",
       "     year_2021  Friday  Monday  Saturday  Sunday  Thursday  Tuesday  Wednesday  \n",
       "460          1       1       0         0       0         0        0          0  \n",
       "461          1       0       0         1       0         0        0          0  \n",
       "462          1       0       0         0       1         0        0          0  \n",
       "463          1       0       1         0       0         0        0          0  \n",
       "464          1       0       0         0       0         0        1          0  "
      ]
     },
     "execution_count": 58,
     "metadata": {},
     "output_type": "execute_result"
    }
   ],
   "source": [
    "# onehotencode for year and day_name on test dataset.\n",
    "# use onehote encode manual for year, because year column have only one value equal 2021.\n",
    "df_test['year_2019'] = 0\n",
    "df_test['year_2020'] = 0\n",
    "df_test['year_2021'] = 1\n",
    "df_test = pd.concat([df_test, pd.get_dummies(df_test['day_name'])], axis=1)\n",
    "df_test.tail()"
   ]
  },
  {
   "cell_type": "code",
   "execution_count": 59,
   "metadata": {},
   "outputs": [
    {
     "data": {
      "text/html": [
       "<div>\n",
       "<style scoped>\n",
       "    .dataframe tbody tr th:only-of-type {\n",
       "        vertical-align: middle;\n",
       "    }\n",
       "\n",
       "    .dataframe tbody tr th {\n",
       "        vertical-align: top;\n",
       "    }\n",
       "\n",
       "    .dataframe thead th {\n",
       "        text-align: right;\n",
       "    }\n",
       "</style>\n",
       "<table border=\"1\" class=\"dataframe\">\n",
       "  <thead>\n",
       "    <tr style=\"text-align: right;\">\n",
       "      <th></th>\n",
       "      <th>window</th>\n",
       "      <th>month</th>\n",
       "      <th>day</th>\n",
       "      <th>official_vacation</th>\n",
       "      <th>Confirmed</th>\n",
       "      <th>Deaths</th>\n",
       "      <th>year_2019</th>\n",
       "      <th>year_2020</th>\n",
       "      <th>year_2021</th>\n",
       "      <th>Friday</th>\n",
       "      <th>Monday</th>\n",
       "      <th>Saturday</th>\n",
       "      <th>Sunday</th>\n",
       "      <th>Thursday</th>\n",
       "      <th>Tuesday</th>\n",
       "      <th>Wednesday</th>\n",
       "    </tr>\n",
       "  </thead>\n",
       "  <tbody>\n",
       "    <tr>\n",
       "      <th>0</th>\n",
       "      <td>1</td>\n",
       "      <td>8</td>\n",
       "      <td>1</td>\n",
       "      <td>0</td>\n",
       "      <td>49.0</td>\n",
       "      <td>4.0</td>\n",
       "      <td>0</td>\n",
       "      <td>0</td>\n",
       "      <td>1</td>\n",
       "      <td>0</td>\n",
       "      <td>0</td>\n",
       "      <td>0</td>\n",
       "      <td>1</td>\n",
       "      <td>0</td>\n",
       "      <td>0</td>\n",
       "      <td>0</td>\n",
       "    </tr>\n",
       "    <tr>\n",
       "      <th>1</th>\n",
       "      <td>1</td>\n",
       "      <td>8</td>\n",
       "      <td>2</td>\n",
       "      <td>0</td>\n",
       "      <td>51.0</td>\n",
       "      <td>7.0</td>\n",
       "      <td>0</td>\n",
       "      <td>0</td>\n",
       "      <td>1</td>\n",
       "      <td>0</td>\n",
       "      <td>1</td>\n",
       "      <td>0</td>\n",
       "      <td>0</td>\n",
       "      <td>0</td>\n",
       "      <td>0</td>\n",
       "      <td>0</td>\n",
       "    </tr>\n",
       "    <tr>\n",
       "      <th>2</th>\n",
       "      <td>1</td>\n",
       "      <td>8</td>\n",
       "      <td>3</td>\n",
       "      <td>0</td>\n",
       "      <td>53.0</td>\n",
       "      <td>5.0</td>\n",
       "      <td>0</td>\n",
       "      <td>0</td>\n",
       "      <td>1</td>\n",
       "      <td>0</td>\n",
       "      <td>0</td>\n",
       "      <td>0</td>\n",
       "      <td>0</td>\n",
       "      <td>0</td>\n",
       "      <td>1</td>\n",
       "      <td>0</td>\n",
       "    </tr>\n",
       "    <tr>\n",
       "      <th>3</th>\n",
       "      <td>1</td>\n",
       "      <td>8</td>\n",
       "      <td>4</td>\n",
       "      <td>0</td>\n",
       "      <td>57.0</td>\n",
       "      <td>10.0</td>\n",
       "      <td>0</td>\n",
       "      <td>0</td>\n",
       "      <td>1</td>\n",
       "      <td>0</td>\n",
       "      <td>0</td>\n",
       "      <td>0</td>\n",
       "      <td>0</td>\n",
       "      <td>0</td>\n",
       "      <td>0</td>\n",
       "      <td>1</td>\n",
       "    </tr>\n",
       "    <tr>\n",
       "      <th>4</th>\n",
       "      <td>1</td>\n",
       "      <td>8</td>\n",
       "      <td>5</td>\n",
       "      <td>0</td>\n",
       "      <td>51.0</td>\n",
       "      <td>7.0</td>\n",
       "      <td>0</td>\n",
       "      <td>0</td>\n",
       "      <td>1</td>\n",
       "      <td>0</td>\n",
       "      <td>0</td>\n",
       "      <td>0</td>\n",
       "      <td>0</td>\n",
       "      <td>1</td>\n",
       "      <td>0</td>\n",
       "      <td>0</td>\n",
       "    </tr>\n",
       "  </tbody>\n",
       "</table>\n",
       "</div>"
      ],
      "text/plain": [
       "   window  month  day  official_vacation  Confirmed  Deaths  year_2019  \\\n",
       "0       1      8    1                  0       49.0     4.0          0   \n",
       "1       1      8    2                  0       51.0     7.0          0   \n",
       "2       1      8    3                  0       53.0     5.0          0   \n",
       "3       1      8    4                  0       57.0    10.0          0   \n",
       "4       1      8    5                  0       51.0     7.0          0   \n",
       "\n",
       "   year_2020  year_2021  Friday  Monday  Saturday  Sunday  Thursday  Tuesday  \\\n",
       "0          0          1       0       0         0       1         0        0   \n",
       "1          0          1       0       1         0       0         0        0   \n",
       "2          0          1       0       0         0       0         0        1   \n",
       "3          0          1       0       0         0       0         0        0   \n",
       "4          0          1       0       0         0       0         1        0   \n",
       "\n",
       "   Wednesday  \n",
       "0          0  \n",
       "1          0  \n",
       "2          0  \n",
       "3          1  \n",
       "4          0  "
      ]
     },
     "execution_count": 59,
     "metadata": {},
     "output_type": "execute_result"
    }
   ],
   "source": [
    "# drop not need columns.\n",
    "X_test = df_test.drop(['timestamp', 'year', 'day_name', 'Recovered'], axis=1)\n",
    "X_test.head()"
   ]
  },
  {
   "cell_type": "code",
   "execution_count": 60,
   "metadata": {},
   "outputs": [],
   "source": [
    "# sure that X_test have same column arrang on train dataset.\n",
    "X_test = X_test[df_new.columns[:-1]]"
   ]
  },
  {
   "cell_type": "code",
   "execution_count": 61,
   "metadata": {},
   "outputs": [
    {
     "data": {
      "text/html": [
       "<div>\n",
       "<style scoped>\n",
       "    .dataframe tbody tr th:only-of-type {\n",
       "        vertical-align: middle;\n",
       "    }\n",
       "\n",
       "    .dataframe tbody tr th {\n",
       "        vertical-align: top;\n",
       "    }\n",
       "\n",
       "    .dataframe thead th {\n",
       "        text-align: right;\n",
       "    }\n",
       "</style>\n",
       "<table border=\"1\" class=\"dataframe\">\n",
       "  <thead>\n",
       "    <tr style=\"text-align: right;\">\n",
       "      <th></th>\n",
       "      <th>window</th>\n",
       "      <th>month</th>\n",
       "      <th>day</th>\n",
       "      <th>official_vacation</th>\n",
       "      <th>Confirmed</th>\n",
       "      <th>Deaths</th>\n",
       "      <th>year_2019</th>\n",
       "      <th>year_2020</th>\n",
       "      <th>year_2021</th>\n",
       "      <th>Friday</th>\n",
       "      <th>Monday</th>\n",
       "      <th>Saturday</th>\n",
       "      <th>Sunday</th>\n",
       "      <th>Thursday</th>\n",
       "      <th>Tuesday</th>\n",
       "      <th>Wednesday</th>\n",
       "    </tr>\n",
       "  </thead>\n",
       "  <tbody>\n",
       "    <tr>\n",
       "      <th>0</th>\n",
       "      <td>1</td>\n",
       "      <td>8</td>\n",
       "      <td>1</td>\n",
       "      <td>0</td>\n",
       "      <td>49.0</td>\n",
       "      <td>4.0</td>\n",
       "      <td>0</td>\n",
       "      <td>0</td>\n",
       "      <td>1</td>\n",
       "      <td>0</td>\n",
       "      <td>0</td>\n",
       "      <td>0</td>\n",
       "      <td>1</td>\n",
       "      <td>0</td>\n",
       "      <td>0</td>\n",
       "      <td>0</td>\n",
       "    </tr>\n",
       "    <tr>\n",
       "      <th>1</th>\n",
       "      <td>1</td>\n",
       "      <td>8</td>\n",
       "      <td>2</td>\n",
       "      <td>0</td>\n",
       "      <td>51.0</td>\n",
       "      <td>7.0</td>\n",
       "      <td>0</td>\n",
       "      <td>0</td>\n",
       "      <td>1</td>\n",
       "      <td>0</td>\n",
       "      <td>1</td>\n",
       "      <td>0</td>\n",
       "      <td>0</td>\n",
       "      <td>0</td>\n",
       "      <td>0</td>\n",
       "      <td>0</td>\n",
       "    </tr>\n",
       "    <tr>\n",
       "      <th>2</th>\n",
       "      <td>1</td>\n",
       "      <td>8</td>\n",
       "      <td>3</td>\n",
       "      <td>0</td>\n",
       "      <td>53.0</td>\n",
       "      <td>5.0</td>\n",
       "      <td>0</td>\n",
       "      <td>0</td>\n",
       "      <td>1</td>\n",
       "      <td>0</td>\n",
       "      <td>0</td>\n",
       "      <td>0</td>\n",
       "      <td>0</td>\n",
       "      <td>0</td>\n",
       "      <td>1</td>\n",
       "      <td>0</td>\n",
       "    </tr>\n",
       "    <tr>\n",
       "      <th>3</th>\n",
       "      <td>1</td>\n",
       "      <td>8</td>\n",
       "      <td>4</td>\n",
       "      <td>0</td>\n",
       "      <td>57.0</td>\n",
       "      <td>10.0</td>\n",
       "      <td>0</td>\n",
       "      <td>0</td>\n",
       "      <td>1</td>\n",
       "      <td>0</td>\n",
       "      <td>0</td>\n",
       "      <td>0</td>\n",
       "      <td>0</td>\n",
       "      <td>0</td>\n",
       "      <td>0</td>\n",
       "      <td>1</td>\n",
       "    </tr>\n",
       "    <tr>\n",
       "      <th>4</th>\n",
       "      <td>1</td>\n",
       "      <td>8</td>\n",
       "      <td>5</td>\n",
       "      <td>0</td>\n",
       "      <td>51.0</td>\n",
       "      <td>7.0</td>\n",
       "      <td>0</td>\n",
       "      <td>0</td>\n",
       "      <td>1</td>\n",
       "      <td>0</td>\n",
       "      <td>0</td>\n",
       "      <td>0</td>\n",
       "      <td>0</td>\n",
       "      <td>1</td>\n",
       "      <td>0</td>\n",
       "      <td>0</td>\n",
       "    </tr>\n",
       "  </tbody>\n",
       "</table>\n",
       "</div>"
      ],
      "text/plain": [
       "   window  month  day  official_vacation  Confirmed  Deaths  year_2019  \\\n",
       "0       1      8    1                  0       49.0     4.0          0   \n",
       "1       1      8    2                  0       51.0     7.0          0   \n",
       "2       1      8    3                  0       53.0     5.0          0   \n",
       "3       1      8    4                  0       57.0    10.0          0   \n",
       "4       1      8    5                  0       51.0     7.0          0   \n",
       "\n",
       "   year_2020  year_2021  Friday  Monday  Saturday  Sunday  Thursday  Tuesday  \\\n",
       "0          0          1       0       0         0       1         0        0   \n",
       "1          0          1       0       1         0       0         0        0   \n",
       "2          0          1       0       0         0       0         0        1   \n",
       "3          0          1       0       0         0       0         0        0   \n",
       "4          0          1       0       0         0       0         1        0   \n",
       "\n",
       "   Wednesday  \n",
       "0          0  \n",
       "1          0  \n",
       "2          0  \n",
       "3          1  \n",
       "4          0  "
      ]
     },
     "execution_count": 61,
     "metadata": {},
     "output_type": "execute_result"
    }
   ],
   "source": [
    "X_test.head()"
   ]
  },
  {
   "cell_type": "code",
   "execution_count": 62,
   "metadata": {},
   "outputs": [],
   "source": [
    "# creat final data set that should has timestamp, window and count same to bank traffic dataset we start. \n",
    "final_test = df_test[[\"timestamp\", \"window\"]]"
   ]
  },
  {
   "cell_type": "code",
   "execution_count": 63,
   "metadata": {},
   "outputs": [],
   "source": [
    "# predict count column.\n",
    "final_test['count'] = [int(x) for  x in xg_reg.predict(X_test)]"
   ]
  },
  {
   "cell_type": "code",
   "execution_count": 73,
   "metadata": {},
   "outputs": [
    {
     "data": {
      "text/html": [
       "<div>\n",
       "<style scoped>\n",
       "    .dataframe tbody tr th:only-of-type {\n",
       "        vertical-align: middle;\n",
       "    }\n",
       "\n",
       "    .dataframe tbody tr th {\n",
       "        vertical-align: top;\n",
       "    }\n",
       "\n",
       "    .dataframe thead th {\n",
       "        text-align: right;\n",
       "    }\n",
       "</style>\n",
       "<table border=\"1\" class=\"dataframe\">\n",
       "  <thead>\n",
       "    <tr style=\"text-align: right;\">\n",
       "      <th></th>\n",
       "      <th>timestamp</th>\n",
       "      <th>window</th>\n",
       "      <th>count</th>\n",
       "    </tr>\n",
       "  </thead>\n",
       "  <tbody>\n",
       "    <tr>\n",
       "      <th>0</th>\n",
       "      <td>2021-08-01 02:00:00+02:00</td>\n",
       "      <td>1</td>\n",
       "      <td>1361</td>\n",
       "    </tr>\n",
       "    <tr>\n",
       "      <th>1</th>\n",
       "      <td>2021-08-02 02:00:00+02:00</td>\n",
       "      <td>1</td>\n",
       "      <td>1841</td>\n",
       "    </tr>\n",
       "    <tr>\n",
       "      <th>2</th>\n",
       "      <td>2021-08-03 02:00:00+02:00</td>\n",
       "      <td>1</td>\n",
       "      <td>2244</td>\n",
       "    </tr>\n",
       "    <tr>\n",
       "      <th>3</th>\n",
       "      <td>2021-08-04 02:00:00+02:00</td>\n",
       "      <td>1</td>\n",
       "      <td>1611</td>\n",
       "    </tr>\n",
       "    <tr>\n",
       "      <th>4</th>\n",
       "      <td>2021-08-05 02:00:00+02:00</td>\n",
       "      <td>1</td>\n",
       "      <td>1838</td>\n",
       "    </tr>\n",
       "    <tr>\n",
       "      <th>5</th>\n",
       "      <td>2021-08-06 02:00:00+02:00</td>\n",
       "      <td>1</td>\n",
       "      <td>0</td>\n",
       "    </tr>\n",
       "    <tr>\n",
       "      <th>6</th>\n",
       "      <td>2021-08-07 02:00:00+02:00</td>\n",
       "      <td>1</td>\n",
       "      <td>0</td>\n",
       "    </tr>\n",
       "  </tbody>\n",
       "</table>\n",
       "</div>"
      ],
      "text/plain": [
       "                  timestamp  window  count\n",
       "0 2021-08-01 02:00:00+02:00       1   1361\n",
       "1 2021-08-02 02:00:00+02:00       1   1841\n",
       "2 2021-08-03 02:00:00+02:00       1   2244\n",
       "3 2021-08-04 02:00:00+02:00       1   1611\n",
       "4 2021-08-05 02:00:00+02:00       1   1838\n",
       "5 2021-08-06 02:00:00+02:00       1      0\n",
       "6 2021-08-07 02:00:00+02:00       1      0"
      ]
     },
     "execution_count": 73,
     "metadata": {},
     "output_type": "execute_result"
    }
   ],
   "source": [
    "final_test.iloc[:7,:]"
   ]
  },
  {
   "cell_type": "markdown",
   "metadata": {},
   "source": [
    "## Save output files"
   ]
  },
  {
   "cell_type": "code",
   "execution_count": 65,
   "metadata": {},
   "outputs": [],
   "source": [
    "# save output data to submission file.\n",
    "final_test.to_csv(\"output/submission.csv\", index=False)"
   ]
  },
  {
   "cell_type": "code",
   "execution_count": 66,
   "metadata": {},
   "outputs": [],
   "source": [
    "# save models\n",
    "import pickle\n",
    "\n",
    "pickle.dump(xg_reg, open('output/Xgb_model.pkl', 'wb'))"
   ]
  },
  {
   "cell_type": "markdown",
   "metadata": {},
   "source": [
    "### Thanks for read my notebook :)"
   ]
  }
 ],
 "metadata": {
  "kernelspec": {
   "display_name": "Python 3",
   "language": "python",
   "name": "python3"
  },
  "language_info": {
   "codemirror_mode": {
    "name": "ipython",
    "version": 3
   },
   "file_extension": ".py",
   "mimetype": "text/x-python",
   "name": "python",
   "nbconvert_exporter": "python",
   "pygments_lexer": "ipython3",
   "version": "3.8.3"
  }
 },
 "nbformat": 4,
 "nbformat_minor": 4
}
